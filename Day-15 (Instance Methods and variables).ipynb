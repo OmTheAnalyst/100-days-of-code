{
 "cells": [
  {
   "cell_type": "code",
   "execution_count": 10,
   "id": "c0bc076d",
   "metadata": {},
   "outputs": [
    {
     "name": "stdout",
     "output_type": "stream",
     "text": [
      "sri chaitanya\n",
      "100\n",
      "student name: deepu\n",
      "student rollnum: 34634\n",
      "students collage: sri chaitanya\n",
      "total marks: 100\n",
      "sri chaitanya\n",
      "100\n",
      "student name: mothvi\n",
      "student rollnum: 101010\n",
      "students collage: sri chaitanya\n",
      "total marks: 100\n"
     ]
    }
   ],
   "source": [
    "class maths:\n",
    "    \n",
    "    clg='sri chaitanya'\n",
    "    totalmarks='100'\n",
    "    \n",
    "    def assign (self,name,rollnum):\n",
    "        print(maths.clg)\n",
    "        print(maths.totalmarks)\n",
    "        self.name=name\n",
    "        self.rollnum=rollnum\n",
    "    \n",
    "    def display(self):\n",
    "        print(\"student name:\",self.name)\n",
    "        print(\"student rollnum:\",self.rollnum)\n",
    "        print(\"students collage:\",maths.clg)\n",
    "        print(\"total marks:\",maths.totalmarks)\n",
    "    \n",
    "    \n",
    "e1 = maths()\n",
    "e1.assign(\"deepu\",\"34634\")\n",
    "e1.display()\n",
    "\n",
    "student2=maths()\n",
    "student2.assign(\"mothvi\",\"101010\")\n",
    "student2.display()\n"
   ]
  },
  {
   "cell_type": "code",
   "execution_count": 1,
   "id": "b13ff14a",
   "metadata": {},
   "outputs": [],
   "source": [
    "#variables \n",
    "#-- Static--instance--local\n",
    "#examples of each variables:\n",
    "\n"
   ]
  },
  {
   "cell_type": "code",
   "execution_count": 16,
   "id": "39c94ad7",
   "metadata": {},
   "outputs": [
    {
     "name": "stdout",
     "output_type": "stream",
     "text": [
      "100\n",
      "100 Duff 122121\n",
      "{'eno': 100, 'ename': 'Duff', 'sal': 122121}\n"
     ]
    }
   ],
   "source": [
    "#Instance variable --- Inside constructor by using self:\n",
    "\n",
    "class emp:\n",
    "    \n",
    "    def __init__(self):\n",
    "        self.eno=100\n",
    "        self.ename='Duff'\n",
    "        self.sal = 122121\n",
    "\n",
    "e = emp() #Creating object\n",
    "print(e.eno) # calling a spefcific instance variable which is inside the constructor\n",
    "print(e.eno,e.ename,e.sal) #calling all instance variables \n",
    "print(e.__dict__) #using dictiorny "
   ]
  },
  {
   "cell_type": "code",
   "execution_count": 30,
   "id": "4015e99c",
   "metadata": {},
   "outputs": [
    {
     "name": "stdout",
     "output_type": "stream",
     "text": [
      "12 2\n",
      "12 2 3\n",
      "{'a': 12, 'b': 2, 'c': 3}\n"
     ]
    }
   ],
   "source": [
    "#Instance variable inside instance method using self:\n",
    "\n",
    "class test:\n",
    "    \n",
    "    def __init__(self):\n",
    "        self.a = 12\n",
    "        self.b = 2\n",
    "        \n",
    "    def m1(self): #Instance method\n",
    "        self.c = 3\n",
    "        \n",
    "\n",
    "t = test()\n",
    "print(t.a,t.b)\n",
    "t.m1()\n",
    "print(t.a,t.b,t.c)\n",
    "t.m1()\n",
    "print(t.__dict__)"
   ]
  },
  {
   "cell_type": "code",
   "execution_count": 40,
   "id": "473f2c55",
   "metadata": {},
   "outputs": [
    {
     "name": "stdout",
     "output_type": "stream",
     "text": [
      "12 43 32 40\n",
      "{'a': 12, 'b': 43, 'c': 32, 'd': 40}\n"
     ]
    }
   ],
   "source": [
    "#instance variable outside of the class by using object reference variable:\n",
    "\n",
    "class test:\n",
    "    \n",
    "    def __init__(self):\n",
    "        self.a = 12\n",
    "        self.b = 43\n",
    "    \n",
    "    def m1(self):\n",
    "        self.c=32\n",
    "        \n",
    "t = test()\n",
    "t.m1()\n",
    "t.d=40    #adding instance variable outside of the class and assigned it the object \n",
    "print(t.a,t.b,t.c,t.d)\n",
    "print(t.__dict__)"
   ]
  },
  {
   "cell_type": "code",
   "execution_count": 48,
   "id": "db51d831",
   "metadata": {},
   "outputs": [
    {
     "name": "stdout",
     "output_type": "stream",
     "text": [
      "10\n",
      "20\n",
      "30\n"
     ]
    }
   ],
   "source": [
    "#TO call instance variable \n",
    "\n",
    "class test:\n",
    "    \n",
    "    def __init__(self):\n",
    "        self.a =10\n",
    "        self.b =20\n",
    "        \n",
    "    def show(self):\n",
    "        \n",
    "        self.c = 30\n",
    "        print(self.a) #using print function \n",
    "        print(self.b) #using print function\n",
    "\n",
    "t=test()\n",
    "t.show()\n",
    "print(t.c) #Accessing variable by using object reference variable\n"
   ]
  },
  {
   "cell_type": "code",
   "execution_count": 63,
   "id": "3026c1bb",
   "metadata": {},
   "outputs": [
    {
     "name": "stdout",
     "output_type": "stream",
     "text": [
      "{'a': 10, 'b': 20}\n",
      "{'b': 20}\n",
      "{'a': 10, 'b': 20, 'c': 30}\n"
     ]
    }
   ],
   "source": [
    "#To delete instance variable from the object\n",
    "\n",
    "class test:\n",
    "    \n",
    "    def __init__(self):\n",
    "        \n",
    "        self.a=10\n",
    "        self.b=20\n",
    "        self.c=30\n",
    "    \n",
    "    def m1(self):\n",
    "        del self.c ##deleting instance variable within a class\n",
    "        \n",
    "t=test()\n",
    "t.m1()\n",
    "print(t.__dict__)\n",
    "del t.a #deleting instance variable outside the class by using object reference variable\n",
    "print(t.__dict__)\n",
    "\n",
    "# Instance variable which are deleted from last object, will not be deleted from other object\n",
    "t1=test()\n",
    "#t1.m1() #not calling method \n",
    "print(t1.__dict__)"
   ]
  },
  {
   "cell_type": "code",
   "execution_count": null,
   "id": "e70f1d1b",
   "metadata": {},
   "outputs": [],
   "source": []
  }
 ],
 "metadata": {
  "kernelspec": {
   "display_name": "Python 3",
   "language": "python",
   "name": "python3"
  },
  "language_info": {
   "codemirror_mode": {
    "name": "ipython",
    "version": 3
   },
   "file_extension": ".py",
   "mimetype": "text/x-python",
   "name": "python",
   "nbconvert_exporter": "python",
   "pygments_lexer": "ipython3",
   "version": "3.8.8"
  }
 },
 "nbformat": 4,
 "nbformat_minor": 5
}
