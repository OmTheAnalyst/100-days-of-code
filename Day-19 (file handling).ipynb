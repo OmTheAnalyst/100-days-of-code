{
 "cells": [
  {
   "cell_type": "code",
   "execution_count": 3,
   "id": "29d72d40",
   "metadata": {},
   "outputs": [
    {
     "data": {
      "text/plain": [
       "'w-- write the file\\na-- opens existing file and append the file\\nr+-- To read and write the and the previous data will not be deleted\\nw+-- To write and read data\\na+--To append and read the data from file, it wont override\\nx--To open a file in exlusive creation mode'"
      ]
     },
     "execution_count": 3,
     "metadata": {},
     "output_type": "execute_result"
    }
   ],
   "source": [
    "#open() function to open the file\n",
    "#f = open (filename, mode) \"\"\" r--to read file\n",
    "\"\"\"w-- write the file\n",
    "a-- opens existing file and append the file\n",
    "r+-- To read and write the and the previous data will not be deleted\n",
    "w+-- To write and read data\n",
    "a+--To append and read the data from file, it wont override\n",
    "x--To open a file in exlusive creation mode\"\"\""
   ]
  },
  {
   "cell_type": "code",
   "execution_count": 8,
   "id": "13fa8a40",
   "metadata": {},
   "outputs": [
    {
     "name": "stdout",
     "output_type": "stream",
     "text": [
      "<_io.TextIOWrapper name='abc.txt' mode='w' encoding='cp1252'>\n"
     ]
    }
   ],
   "source": [
    "#To open the file \n",
    "a = open(\"abc.txt\",\"w\")\n",
    "print(a)"
   ]
  },
  {
   "cell_type": "code",
   "execution_count": 9,
   "id": "7071e7b8",
   "metadata": {},
   "outputs": [],
   "source": [
    "#To close the file\n",
    "a.close()"
   ]
  },
  {
   "cell_type": "code",
   "execution_count": 20,
   "id": "2ece9246",
   "metadata": {},
   "outputs": [
    {
     "name": "stdout",
     "output_type": "stream",
     "text": [
      "File Name: abc.txt\n",
      "File Mode: w\n",
      "is file readable? False\n",
      "is file writable? True\n",
      "Is file closed? False\n",
      "is file closed True\n"
     ]
    }
   ],
   "source": [
    "a = open(\"abc.txt\",'w')\n",
    "print(\"File Name:\", a.name) #to check file name\n",
    "print(\"File Mode:\",a.mode) #To check file mode\n",
    "print(\"is file readable?\",a.readable()) #To check if file is readable\n",
    "print(\"is file writable?\",a.writable()) #To check if file is writable\n",
    "print(\"Is file closed?\",a.closed) #To check if file is closed\n",
    "a.close() #To close the file\n",
    "print(\"is file closed\",a.closed)\n"
   ]
  },
  {
   "cell_type": "code",
   "execution_count": 58,
   "id": "04f3c03b",
   "metadata": {},
   "outputs": [
    {
     "name": "stdout",
     "output_type": "stream",
     "text": [
      "Data written successfully\n"
     ]
    }
   ],
   "source": [
    "#Write a data to text file\n",
    "\n",
    "a = open(\"abc.txt\",'w')\n",
    "a.write(\"Bom1\\n\")\n",
    "a.write(\"Python file handling Module\\n\")\n",
    "a.write(\"Bo2\\n\")\n",
    "a.write(\"Python fle handling Mafaw\\n\")\n",
    "a.write(\"Bo3\\n\")\n",
    "a.write(\"Python fle handling Mafaw\\n\")\n",
    "a.write(\"Bo4\\n\")\n",
    "a.write(\"Python fle handling Mafaw\\n\")\n",
    "a.write(\"Bo5\\n\")\n",
    "a.write(\"Python fle handling Mafaw\\n\")\n",
    "a.write(\"Bom\\n\")\n",
    "a.write(\"Python fle handling Mafaw\\n\")\n",
    "a.write(\"Bom\\n\")\n",
    "a.write(\"Python fle handling Mafaw\\n\")\n",
    "print(\"Data written successfully\")\n",
    "a.close()"
   ]
  },
  {
   "cell_type": "code",
   "execution_count": 59,
   "id": "a7a15901",
   "metadata": {},
   "outputs": [
    {
     "name": "stdout",
     "output_type": "stream",
     "text": [
      "Bom1\n",
      "Python file handling Module\n",
      "Bo2\n",
      "Python fle handling Mafaw\n",
      "Bo3\n",
      "Python fle handling Mafaw\n",
      "Bo4\n",
      "Python fle handling Mafaw\n",
      "Bo5\n",
      "Python fle handling Mafaw\n",
      "Bom\n",
      "Python fle handling Mafaw\n",
      "Bom\n",
      "Python fle handling Mafaw\n",
      "\n"
     ]
    }
   ],
   "source": [
    "#To read the file\n",
    "a = open(\"abc.txt\",'r')\n",
    "data = a.read()\n",
    "print(data)\n",
    "a.close()"
   ]
  },
  {
   "cell_type": "code",
   "execution_count": 60,
   "id": "409cf7a0",
   "metadata": {},
   "outputs": [
    {
     "name": "stdout",
     "output_type": "stream",
     "text": [
      "Bom1\n",
      "Pytho\n"
     ]
    }
   ],
   "source": [
    "#To read only first 10 characters\n",
    "\n",
    "f = open(\"abc.txt\",'r')\n",
    "d = f.read(10)\n",
    "print(d)\n",
    "f.close()"
   ]
  },
  {
   "cell_type": "code",
   "execution_count": 62,
   "id": "66c8a9e9",
   "metadata": {},
   "outputs": [
    {
     "name": "stdout",
     "output_type": "stream",
     "text": [
      "Bom1\n",
      "Python file handling Module\n",
      "Bo2\n"
     ]
    }
   ],
   "source": [
    "# To read data line by line\n",
    "\n",
    "f = open(\"abc.txt\",'r')\n",
    "l1 = f.readline()\n",
    "print(l1,end=\"\")\n",
    "\n",
    "l2 = f.readline()\n",
    "print(l2,end=\"\")\n",
    "\n",
    "l3 = f.readline()\n",
    "print(l3,end=\"\")\n",
    "f.close()"
   ]
  },
  {
   "cell_type": "code",
   "execution_count": 65,
   "id": "a1ffa62d",
   "metadata": {},
   "outputs": [
    {
     "name": "stdout",
     "output_type": "stream",
     "text": [
      "Bom1\n",
      "Python file handling Module\n",
      "Bo2\n",
      "Python fle handling Mafaw\n",
      "Bo3\n",
      "Python fle handling Mafaw\n",
      "Bo4\n",
      "Python fle handling Mafaw\n",
      "Bo5\n",
      "Python fle handling Mafaw\n",
      "Bom\n",
      "Python fle handling Mafaw\n",
      "Bom\n",
      "Python fle handling Mafaw\n"
     ]
    }
   ],
   "source": [
    "#To read all the lines into list:\n",
    "\n",
    "f = open(\"abc.txt\",'r')\n",
    "li = f.readlines()\n",
    "for lin in li:\n",
    "    print(lin,end='')\n",
    "f.close()"
   ]
  },
  {
   "cell_type": "code",
   "execution_count": 67,
   "id": "68c40cbe",
   "metadata": {},
   "outputs": [
    {
     "name": "stdout",
     "output_type": "stream",
     "text": [
      "['Bom1\\n', 'Python file handling Module\\n', 'Bo2\\n', 'Python fle handling Mafaw\\n', 'Bo3\\n', 'Python fle handling Mafaw\\n', 'Bo4\\n', 'Python fle handling Mafaw\\n', 'Bo5\\n', 'Python fle handling Mafaw\\n', 'Bom\\n', 'Python fle handling Mafaw\\n', 'Bom\\n', 'Python fle handling Mafaw\\n']\n"
     ]
    }
   ],
   "source": [
    "f = open(\"abc.txt\",'r')\n",
    "li = f.readlines()\n",
    "print(li)\n",
    "f.close()"
   ]
  },
  {
   "cell_type": "code",
   "execution_count": 73,
   "id": "6562900b",
   "metadata": {},
   "outputs": [
    {
     "name": "stdout",
     "output_type": "stream",
     "text": [
      "is file closed? False\n",
      "File is closed\n",
      "is file closed? True\n"
     ]
    }
   ],
   "source": [
    "with open(\"abc.txt\",'w') as f:\n",
    "    f.write(\"Durha\\n\")\n",
    "    f.write(\"Soft\\n\")\n",
    "    print(\"is file closed?\",f.closed)\n",
    "print(\"File is closed\")\n",
    "print(\"is file closed?\",f.closed)"
   ]
  },
  {
   "cell_type": "code",
   "execution_count": 76,
   "id": "deebe392",
   "metadata": {},
   "outputs": [
    {
     "data": {
      "text/plain": [
       "True"
      ]
     },
     "execution_count": 76,
     "metadata": {},
     "output_type": "execute_result"
    }
   ],
   "source": [
    "import os as os\n",
    "\n",
    "os.path.isfile(\"abc.txt\")"
   ]
  },
  {
   "cell_type": "code",
   "execution_count": 83,
   "id": "fd0a0cf7",
   "metadata": {},
   "outputs": [
    {
     "ename": "SyntaxError",
     "evalue": "(unicode error) 'unicodeescape' codec can't decode bytes in position 2-3: truncated \\UXXXXXXXX escape (<ipython-input-83-12455659fff2>, line 2)",
     "output_type": "error",
     "traceback": [
      "\u001b[1;36m  File \u001b[1;32m\"<ipython-input-83-12455659fff2>\"\u001b[1;36m, line \u001b[1;32m2\u001b[0m\n\u001b[1;33m    f = open(\"C:\\Users\\om\\Desktop\\Assignment_6.csv\",'r')\u001b[0m\n\u001b[1;37m             ^\u001b[0m\n\u001b[1;31mSyntaxError\u001b[0m\u001b[1;31m:\u001b[0m (unicode error) 'unicodeescape' codec can't decode bytes in position 2-3: truncated \\UXXXXXXXX escape\n"
     ]
    }
   ],
   "source": [
    "import csv\n",
    "f = open(\"C:\\Users\\om\\Desktop\\Assignment_6.csv\",'r')\n",
    "r = csv.reader(f)\n",
    "data = list(r)\n",
    "print(data)"
   ]
  },
  {
   "cell_type": "code",
   "execution_count": 81,
   "id": "bec4ce0d",
   "metadata": {},
   "outputs": [
    {
     "name": "stdout",
     "output_type": "stream",
     "text": [
      "Current: C:\\Users\\om\\100 Days of Code\n"
     ]
    }
   ],
   "source": [
    "#To know current workinf directory\n",
    "\n",
    "import os \n",
    "cwd = os.getcwd()\n",
    "print(\"Current:\",cwd)"
   ]
  },
  {
   "cell_type": "code",
   "execution_count": 89,
   "id": "9bcff538",
   "metadata": {},
   "outputs": [
    {
     "name": "stdout",
     "output_type": "stream",
     "text": [
      "New dir is:\n"
     ]
    }
   ],
   "source": [
    "# To creating a new directory\n",
    "import os\n",
    "os.mkdir(\"Lol\")\n",
    "print(\"New dir is:\")"
   ]
  },
  {
   "cell_type": "code",
   "execution_count": 92,
   "id": "9b5d7b1b",
   "metadata": {},
   "outputs": [
    {
     "name": "stdout",
     "output_type": "stream",
     "text": [
      "Deleted\n"
     ]
    }
   ],
   "source": [
    "#To remove a directory\n",
    "\n",
    "import os\n",
    "os.rmdir(\"lol\")\n",
    "print(\"Deleted\")"
   ]
  },
  {
   "cell_type": "code",
   "execution_count": 93,
   "id": "ed74e0e4",
   "metadata": {},
   "outputs": [
    {
     "ename": "FileNotFoundError",
     "evalue": "[WinError 2] The system cannot find the file specified: 'lol' -> 'Newlol'",
     "output_type": "error",
     "traceback": [
      "\u001b[1;31m---------------------------------------------------------------------------\u001b[0m",
      "\u001b[1;31mFileNotFoundError\u001b[0m                         Traceback (most recent call last)",
      "\u001b[1;32m<ipython-input-93-46b63e7b77ab>\u001b[0m in \u001b[0;36m<module>\u001b[1;34m\u001b[0m\n\u001b[0;32m      1\u001b[0m \u001b[1;31m# To rename directory\u001b[0m\u001b[1;33m\u001b[0m\u001b[1;33m\u001b[0m\u001b[1;33m\u001b[0m\u001b[0m\n\u001b[0;32m      2\u001b[0m \u001b[1;32mimport\u001b[0m \u001b[0mos\u001b[0m\u001b[1;33m\u001b[0m\u001b[1;33m\u001b[0m\u001b[0m\n\u001b[1;32m----> 3\u001b[1;33m \u001b[0mos\u001b[0m\u001b[1;33m.\u001b[0m\u001b[0mrename\u001b[0m\u001b[1;33m(\u001b[0m\u001b[1;34m\"lol\"\u001b[0m\u001b[1;33m,\u001b[0m\u001b[1;34m\"Newlol\"\u001b[0m\u001b[1;33m)\u001b[0m\u001b[1;33m\u001b[0m\u001b[1;33m\u001b[0m\u001b[0m\n\u001b[0m\u001b[0;32m      4\u001b[0m \u001b[0mprint\u001b[0m\u001b[1;33m(\u001b[0m\u001b[1;34m\"Created\"\u001b[0m\u001b[1;33m)\u001b[0m\u001b[1;33m\u001b[0m\u001b[1;33m\u001b[0m\u001b[0m\n",
      "\u001b[1;31mFileNotFoundError\u001b[0m: [WinError 2] The system cannot find the file specified: 'lol' -> 'Newlol'"
     ]
    }
   ],
   "source": [
    "# To rename directory\n",
    "import os\n",
    "os.rename(\"lol\",\"Newlol\")\n",
    "print(\"Created\")"
   ]
  },
  {
   "cell_type": "code",
   "execution_count": 94,
   "id": "dd3b41f5",
   "metadata": {},
   "outputs": [
    {
     "name": "stdout",
     "output_type": "stream",
     "text": [
      "os.stat_result(st_mode=33206, st_ino=56013520365426067, st_dev=1255822453, st_nlink=1, st_uid=0, st_gid=0, st_size=13, st_atime=1669893785, st_mtime=1669892260, st_ctime=1669890128)\n"
     ]
    }
   ],
   "source": [
    "# To print all the stats\n",
    "\n",
    "import os\n",
    "stats=os.stat(\"abc.txt\")\n",
    "print(stats)"
   ]
  },
  {
   "cell_type": "code",
   "execution_count": null,
   "id": "8a260e73",
   "metadata": {},
   "outputs": [],
   "source": []
  }
 ],
 "metadata": {
  "kernelspec": {
   "display_name": "Python 3",
   "language": "python",
   "name": "python3"
  },
  "language_info": {
   "codemirror_mode": {
    "name": "ipython",
    "version": 3
   },
   "file_extension": ".py",
   "mimetype": "text/x-python",
   "name": "python",
   "nbconvert_exporter": "python",
   "pygments_lexer": "ipython3",
   "version": "3.8.8"
  }
 },
 "nbformat": 4,
 "nbformat_minor": 5
}
