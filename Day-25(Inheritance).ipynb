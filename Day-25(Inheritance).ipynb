{
 "cells": [
  {
   "cell_type": "code",
   "execution_count": 7,
   "id": "d9c1b61c",
   "metadata": {},
   "outputs": [
    {
     "name": "stdout",
     "output_type": "stream",
     "text": [
      "Class2, Car function\n",
      "10\n",
      "20\n",
      "Class 1, Engine Function\n"
     ]
    }
   ],
   "source": [
    "#inheriting from one class in other class\n",
    "class engine:\n",
    "    a = 10\n",
    "    \n",
    "    def __init__(self):\n",
    "        self.b=20\n",
    "        \n",
    "    def m1(self):\n",
    "        print(\"Class 1, Engine Function\")\n",
    "        \n",
    "class car:\n",
    "    \n",
    "    def __init__(self):\n",
    "        self.engine = engine()\n",
    "        \n",
    "    def m2(self):\n",
    "        print(\"Class2, Car function\")\n",
    "        print(self.engine.a)\n",
    "        print(self.engine.b)\n",
    "        self.engine.m1()\n",
    "        \n",
    "        \n",
    "c = car()\n",
    "c.m2()"
   ]
  },
  {
   "cell_type": "code",
   "execution_count": 18,
   "id": "b0477902",
   "metadata": {},
   "outputs": [
    {
     "name": "stdout",
     "output_type": "stream",
     "text": [
      "employee Name: raw\n",
      "employee No: 12131\n",
      "employee Car Info:\n",
      "Car name:Innova, Model:2.3V, Color:White\n"
     ]
    }
   ],
   "source": [
    "class car:\n",
    "    def __init__(self,name,model,color):\n",
    "        self.name=name\n",
    "        self.model=model\n",
    "        self.color=color\n",
    "    \n",
    "    def getinfo(self):\n",
    "        print(\"Car name:{}, Model:{}, Color:{}\".format(self.name,self.model,self.color))\n",
    "        \n",
    "        \n",
    "class emp:\n",
    "    def __init__(self,ename,eno,car):\n",
    "        self.ename = ename\n",
    "        self.eno = eno\n",
    "        self.car = car\n",
    "        \n",
    "    def empinfo(self):\n",
    "        print(\"employee Name:\", self.ename)\n",
    "        print(\"employee No:\", self.eno)\n",
    "        print(\"employee Car Info:\")\n",
    "        self.car.getinfo()\n",
    "        \n",
    "c = car(\"Innova\",\"2.3V\",\"White\")\n",
    "e = emp(\"raw\",12131,c)\n",
    "e.empinfo()"
   ]
  },
  {
   "cell_type": "code",
   "execution_count": 23,
   "id": "88ccd4c3",
   "metadata": {},
   "outputs": [
    {
     "name": "stdout",
     "output_type": "stream",
     "text": [
      "The no of object created for test class:  2\n",
      "The no of object created for test class:  5\n"
     ]
    }
   ],
   "source": [
    "#class method\n",
    "class test:\n",
    "    count=0\n",
    "    \n",
    "    def __init__(self):\n",
    "        test.count = test.count+1\n",
    "        \n",
    "    @classmethod \n",
    "    \n",
    "    def noOfObj(cla):\n",
    "        print(\"The no of object created for test class: \",cla.count)\n",
    "        \n",
    "        \n",
    "t1 = test()\n",
    "t2 = test()\n",
    "test.noOfObj()\n",
    "t3= test()\n",
    "t4=test()\n",
    "t5 = test()\n",
    "test.noOfObj()"
   ]
  },
  {
   "cell_type": "code",
   "execution_count": 31,
   "id": "f33a7582",
   "metadata": {},
   "outputs": [
    {
     "name": "stdout",
     "output_type": "stream",
     "text": [
      "The marks: 33\n"
     ]
    }
   ],
   "source": [
    "#static method\n",
    "class stud:\n",
    "    \n",
    "    def marks(x,y):\n",
    "        print(\"The marks:\",x+y)\n",
    "        \n",
    "stud.marks(10,23)\n"
   ]
  },
  {
   "cell_type": "code",
   "execution_count": 37,
   "id": "c304155a",
   "metadata": {},
   "outputs": [
    {
     "name": "stdout",
     "output_type": "stream",
     "text": [
      "emp no: 100\n",
      "emp name: rws\n",
      "emp salaru: 10500\n"
     ]
    }
   ],
   "source": [
    "#passing members of one class to another by using instance and static method:\n",
    "\n",
    "class stud:\n",
    "    \n",
    "    def __init__(self,eno,ename,esal):\n",
    "        self.eno = eno\n",
    "        self.ename = ename\n",
    "        self.esal = esal\n",
    "    \n",
    "    def display(self):\n",
    "        print(\"emp no:\", self.eno)\n",
    "        print(\"emp name:\", self.ename)\n",
    "        print(\"emp salaru:\", self.esal)\n",
    "        \n",
    "        \n",
    "class test():\n",
    "    \n",
    "    def modify(emp):\n",
    "        emp.esal = emp.esal+500\n",
    "        emp.display()\n",
    "        \n",
    "e = stud(100,\"rws\",10000)\n",
    "test.modify(e)\n"
   ]
  },
  {
   "cell_type": "code",
   "execution_count": 38,
   "id": "83ed0fee",
   "metadata": {},
   "outputs": [
    {
     "name": "stdout",
     "output_type": "stream",
     "text": [
      "['ai', 'ai']\n"
     ]
    }
   ],
   "source": [
    "import re\n",
    "\n",
    "txt = \"The rain in Spain\"\n",
    "x = re.findall(\"ai\", txt)\n",
    "print(x)"
   ]
  },
  {
   "cell_type": "code",
   "execution_count": 39,
   "id": "8cec0a87",
   "metadata": {},
   "outputs": [
    {
     "name": "stdout",
     "output_type": "stream",
     "text": [
      "[]\n"
     ]
    }
   ],
   "source": [
    "import re\n",
    "\n",
    "txt = \"The rain in Spain\"\n",
    "x = re.findall(\"Portugal\", txt)\n",
    "print(x) \n"
   ]
  },
  {
   "cell_type": "code",
   "execution_count": null,
   "id": "ec34c6ef",
   "metadata": {},
   "outputs": [],
   "source": []
  }
 ],
 "metadata": {
  "kernelspec": {
   "display_name": "Python 3",
   "language": "python",
   "name": "python3"
  },
  "language_info": {
   "codemirror_mode": {
    "name": "ipython",
    "version": 3
   },
   "file_extension": ".py",
   "mimetype": "text/x-python",
   "name": "python",
   "nbconvert_exporter": "python",
   "pygments_lexer": "ipython3",
   "version": "3.8.8"
  }
 },
 "nbformat": 4,
 "nbformat_minor": 5
}
