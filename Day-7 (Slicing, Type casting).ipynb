{
 "cells": [
  {
   "cell_type": "code",
   "execution_count": 8,
   "id": "8e5a74db",
   "metadata": {},
   "outputs": [
    {
     "data": {
      "text/plain": [
       "'Durga'"
      ]
     },
     "execution_count": 8,
     "metadata": {},
     "output_type": "execute_result"
    }
   ],
   "source": [
    "s1 = 'Durga'\n",
    "s1"
   ]
  },
  {
   "cell_type": "code",
   "execution_count": 11,
   "id": "97ed10b0",
   "metadata": {},
   "outputs": [
    {
     "data": {
      "text/plain": [
       "'Durga\\n\\nLalaalalal'"
      ]
     },
     "execution_count": 11,
     "metadata": {},
     "output_type": "execute_result"
    }
   ],
   "source": [
    "s1 = \"\"\"Durga\n",
    "\n",
    "Lalaalalal\"\"\"\n",
    "s1"
   ]
  },
  {
   "cell_type": "code",
   "execution_count": 45,
   "id": "a3a6ae52",
   "metadata": {},
   "outputs": [
    {
     "data": {
      "text/plain": [
       "'Dra'"
      ]
     },
     "execution_count": 45,
     "metadata": {},
     "output_type": "execute_result"
    }
   ],
   "source": [
    "### Slice operator []\n",
    "s = 'Durga'\n",
    "s[0]\n",
    "s[1]\n",
    "s[-3]\n",
    "s[:]\n",
    "s[1:]\n",
    "s[1:40]\n",
    "s[1:]\n",
    "s*3\n",
    "len(s)\n",
    "s[-1:-6:-1]\n",
    "s[0:5:2]"
   ]
  },
  {
   "cell_type": "code",
   "execution_count": 70,
   "id": "c555cb9f",
   "metadata": {
    "scrolled": true
   },
   "outputs": [
    {
     "name": "stdout",
     "output_type": "stream",
     "text": [
      "[20, 30, 40, 50, 60, 70, 80, 90]\n",
      "[20, 40, 60, 80]\n"
     ]
    },
    {
     "data": {
      "text/plain": [
       "[90, 80, 70, 60, 50]"
      ]
     },
     "execution_count": 70,
     "metadata": {},
     "output_type": "execute_result"
    }
   ],
   "source": [
    "lst = list(range(20,100,10))\n",
    "print(lst)\n",
    "print(lst[::2])\n",
    "lst[3:8:2]\n",
    "lst[-1:-6:-1]"
   ]
  },
  {
   "cell_type": "code",
   "execution_count": 74,
   "id": "6340176a",
   "metadata": {},
   "outputs": [
    {
     "data": {
      "text/plain": [
       "[0, 1, 2, 3, 4, 5, 6, 7, 8, 9]"
      ]
     },
     "execution_count": 74,
     "metadata": {},
     "output_type": "execute_result"
    }
   ],
   "source": [
    "lst1 = list(range(10))\n",
    "lst1\n",
    "print(lst[])"
   ]
  },
  {
   "cell_type": "code",
   "execution_count": null,
   "id": "5a38c093",
   "metadata": {},
   "outputs": [],
   "source": []
  }
 ],
 "metadata": {
  "kernelspec": {
   "display_name": "Python 3",
   "language": "python",
   "name": "python3"
  },
  "language_info": {
   "codemirror_mode": {
    "name": "ipython",
    "version": 3
   },
   "file_extension": ".py",
   "mimetype": "text/x-python",
   "name": "python",
   "nbconvert_exporter": "python",
   "pygments_lexer": "ipython3",
   "version": "3.8.8"
  }
 },
 "nbformat": 4,
 "nbformat_minor": 5
}
