{
 "cells": [
  {
   "cell_type": "code",
   "execution_count": 4,
   "id": "c3da22e3",
   "metadata": {},
   "outputs": [
    {
     "name": "stdout",
     "output_type": "stream",
     "text": [
      "Constructoer\n",
      "m1\n"
     ]
    }
   ],
   "source": [
    "class student:\n",
    "    \n",
    "    def __init__(self):\n",
    "        print(\"Constructoer\")\n",
    "        \n",
    "    def m1(self):\n",
    "        print(\"m1\")\n",
    "        \n",
    "s = student()\n",
    "s.m1()\n",
    "\n"
   ]
  },
  {
   "cell_type": "code",
   "execution_count": 37,
   "id": "578aad16",
   "metadata": {},
   "outputs": [
    {
     "name": "stdout",
     "output_type": "stream",
     "text": [
      "name: gee\n",
      "age 345634\n",
      "Roll: 43\n",
      "gee\n",
      "43\n"
     ]
    }
   ],
   "source": [
    "class sub:\n",
    "    '''this is class'''\n",
    "    \n",
    "    def __init__(self, name,age,roll):\n",
    "        self.o = name\n",
    "        self.a = age\n",
    "        self.r = roll\n",
    "        \n",
    "    def m1(self):\n",
    "        print(\"name:\",self.o)\n",
    "        print(\"age\",self.a)\n",
    "        print(\"Roll:\",self.r)\n",
    "        \n",
    "s = sub('gee',345634,43)\n",
    "s.m1()\n",
    "print(s.o)\n",
    "print(s.r)\n",
    "        "
   ]
  },
  {
   "cell_type": "code",
   "execution_count": 54,
   "id": "8ed1256e",
   "metadata": {},
   "outputs": [
    {
     "name": "stdout",
     "output_type": "stream",
     "text": [
      "esjkbt 32\n"
     ]
    }
   ],
   "source": [
    "class son:\n",
    "    '''Constructor created'''\n",
    "    \n",
    "    def __init__(self):\n",
    "        self.name = \"esjkbt\"\n",
    "        self.age = 32\n",
    "        \n",
    "so = son()\n",
    "print(so.name, so.age)\n"
   ]
  },
  {
   "cell_type": "code",
   "execution_count": 70,
   "id": "ba4b2e8c",
   "metadata": {},
   "outputs": [
    {
     "name": "stdout",
     "output_type": "stream",
     "text": [
      "12 43 54\n",
      "12 43 34\n",
      "{'a': 12, 'b': 43, 'c': 54, 'd': 34}\n"
     ]
    }
   ],
   "source": [
    "class test:\n",
    "    \n",
    "    def __init__(self):\n",
    "        self.a = 12\n",
    "        self.b = 43\n",
    "        \n",
    "    def dis(self):\n",
    "        self.c = 54\n",
    "        print(self.a,self.b,self.c)\n",
    "        \n",
    "o = test()\n",
    "o.dis()\n",
    "o.d =34\n",
    "print(o.a,o.b,o.d)\n",
    "print(o.__dict__)"
   ]
  },
  {
   "cell_type": "code",
   "execution_count": 90,
   "id": "747b332a",
   "metadata": {},
   "outputs": [
    {
     "name": "stdout",
     "output_type": "stream",
     "text": [
      "{'c': 12, 'd': 43, 'f': 45}\n",
      "{'a': 12, 'c': 12, 'd': 43}\n",
      "{'c': 12, 'd': 43, 'f': 45}\n"
     ]
    }
   ],
   "source": [
    "class subject:\n",
    "    \n",
    "    def __init__(self):\n",
    "        self.a = 12\n",
    "        self.b = 43\n",
    "        self.c = 12\n",
    "        self.d = 43\n",
    "        #del self.c\n",
    "        \n",
    "    def dis(self):\n",
    "        self.f = 45\n",
    "        del self.b\n",
    "        \n",
    "x = subject()\n",
    "x.dis()\n",
    "del x.a #deleting instance variable outside the class by using object reference\n",
    "print(x.__dict__)\n",
    "\n",
    "x1 =subject()\n",
    "x1.dis()\n",
    "del x1.f\n",
    "print(x1.__dict__)\n",
    "\n",
    "x2 = subject()\n",
    "x2.dis()\n",
    "del x2.a\n",
    "print(x2.__dict__)\n"
   ]
  },
  {
   "cell_type": "code",
   "execution_count": null,
   "id": "95e87d3c",
   "metadata": {},
   "outputs": [],
   "source": []
  }
 ],
 "metadata": {
  "kernelspec": {
   "display_name": "Python 3",
   "language": "python",
   "name": "python3"
  },
  "language_info": {
   "codemirror_mode": {
    "name": "ipython",
    "version": 3
   },
   "file_extension": ".py",
   "mimetype": "text/x-python",
   "name": "python",
   "nbconvert_exporter": "python",
   "pygments_lexer": "ipython3",
   "version": "3.8.8"
  }
 },
 "nbformat": 4,
 "nbformat_minor": 5
}
