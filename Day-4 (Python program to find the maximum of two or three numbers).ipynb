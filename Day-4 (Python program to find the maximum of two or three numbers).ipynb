{
 "cells": [
  {
   "cell_type": "markdown",
   "id": "71c7e629",
   "metadata": {},
   "source": [
    "##### Python program to find the maximum of two numbers"
   ]
  },
  {
   "cell_type": "code",
   "execution_count": 1,
   "id": "8e9a109a",
   "metadata": {},
   "outputs": [
    {
     "name": "stdout",
     "output_type": "stream",
     "text": [
      "221\n"
     ]
    }
   ],
   "source": [
    "a = 221\n",
    "b = 23\n",
    "maximum = max(a, b)\n",
    "print(maximum)"
   ]
  },
  {
   "cell_type": "markdown",
   "id": "8320e72e",
   "metadata": {},
   "source": [
    "##### With Function\n"
   ]
  },
  {
   "cell_type": "code",
   "execution_count": 6,
   "id": "efbb7dea",
   "metadata": {},
   "outputs": [
    {
     "name": "stdout",
     "output_type": "stream",
     "text": [
      "4\n"
     ]
    }
   ],
   "source": [
    "def maximum(a,b):\n",
    "    if a >= b:\n",
    "        return(a)\n",
    "    else:\n",
    "        return(b)\n",
    "        \n",
    "a = 4\n",
    "b = 2\n",
    "print(maximum(a,b))"
   ]
  },
  {
   "cell_type": "markdown",
   "id": "60ec3383",
   "metadata": {},
   "source": [
    "#### By Using Operator with condition statement\n",
    "\n"
   ]
  },
  {
   "cell_type": "code",
   "execution_count": 9,
   "id": "668e990a",
   "metadata": {},
   "outputs": [
    {
     "name": "stdout",
     "output_type": "stream",
     "text": [
      "Enter first value: 435\n",
      "Enter Second Value: 32425\n",
      "32425\n"
     ]
    }
   ],
   "source": [
    "a = int(input(\"Enter first value: \" ))\n",
    "b = int(input(\"Enter Second Value: \"))\n",
    "print(a if a >= b else b)"
   ]
  },
  {
   "cell_type": "code",
   "execution_count": 11,
   "id": "ee0b2ed5",
   "metadata": {},
   "outputs": [
    {
     "name": "stdout",
     "output_type": "stream",
     "text": [
      "Maximum Number is:  [5]\n"
     ]
    }
   ],
   "source": [
    "a = 5; b = 3\n",
    "x = [a if a>b else b]\n",
    "print(\"Maximum Number is: \",x)"
   ]
  },
  {
   "cell_type": "markdown",
   "id": "1348ff67",
   "metadata": {},
   "source": [
    "#### Python program maximum of three\n"
   ]
  },
  {
   "cell_type": "code",
   "execution_count": 12,
   "id": "e7cbc1b4",
   "metadata": {},
   "outputs": [
    {
     "name": "stdout",
     "output_type": "stream",
     "text": [
      "45\n"
     ]
    }
   ],
   "source": [
    "a = 10\n",
    "b = 32\n",
    "c = 45\n",
    "print(max(a,b,c))"
   ]
  },
  {
   "cell_type": "code",
   "execution_count": null,
   "id": "75d29845",
   "metadata": {},
   "outputs": [],
   "source": []
  }
 ],
 "metadata": {
  "kernelspec": {
   "display_name": "Python 3",
   "language": "python",
   "name": "python3"
  },
  "language_info": {
   "codemirror_mode": {
    "name": "ipython",
    "version": 3
   },
   "file_extension": ".py",
   "mimetype": "text/x-python",
   "name": "python",
   "nbconvert_exporter": "python",
   "pygments_lexer": "ipython3",
   "version": "3.8.8"
  }
 },
 "nbformat": 4,
 "nbformat_minor": 5
}
