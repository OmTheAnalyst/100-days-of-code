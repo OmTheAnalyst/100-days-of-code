{
 "cells": [
  {
   "cell_type": "code",
   "execution_count": 1,
   "id": "b75f098c",
   "metadata": {},
   "outputs": [
    {
     "name": "stdout",
     "output_type": "stream",
     "text": [
      "5\n"
     ]
    }
   ],
   "source": [
    "sum = lambda x, y: x + y\n",
    "\n",
    "print(sum(3,2))"
   ]
  },
  {
   "cell_type": "code",
   "execution_count": 3,
   "id": "4df42c99",
   "metadata": {},
   "outputs": [
    {
     "name": "stdout",
     "output_type": "stream",
     "text": [
      "6\n"
     ]
    }
   ],
   "source": [
    "x = lambda s: len(s)\n",
    "\n",
    "print(x('Helloo'))"
   ]
  },
  {
   "cell_type": "code",
   "execution_count": 5,
   "id": "15686185",
   "metadata": {},
   "outputs": [
    {
     "name": "stdout",
     "output_type": "stream",
     "text": [
      "[1, 4, 9, 16]\n"
     ]
    }
   ],
   "source": [
    "x = lambda n:[num**2 for num in n]\n",
    "\n",
    "print(x([1,2,3,4]))"
   ]
  },
  {
   "cell_type": "code",
   "execution_count": 8,
   "id": "8cc98fc8",
   "metadata": {},
   "outputs": [
    {
     "name": "stdout",
     "output_type": "stream",
     "text": [
      "['Apple', 'Avocado']\n"
     ]
    }
   ],
   "source": [
    "x = lambda s1:[s for s in s1  if s[0].lower()=='a']\n",
    "\n",
    "print(x(['Apple','Banana','Avocado']))"
   ]
  },
  {
   "cell_type": "code",
   "execution_count": null,
   "id": "1f89322a",
   "metadata": {},
   "outputs": [],
   "source": []
  }
 ],
 "metadata": {
  "kernelspec": {
   "display_name": "Python 3 (ipykernel)",
   "language": "python",
   "name": "python3"
  },
  "language_info": {
   "codemirror_mode": {
    "name": "ipython",
    "version": 3
   },
   "file_extension": ".py",
   "mimetype": "text/x-python",
   "name": "python",
   "nbconvert_exporter": "python",
   "pygments_lexer": "ipython3",
   "version": "3.10.9"
  }
 },
 "nbformat": 4,
 "nbformat_minor": 5
}
