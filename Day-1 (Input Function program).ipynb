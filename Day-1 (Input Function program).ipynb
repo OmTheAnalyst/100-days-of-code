{
 "cells": [
  {
   "cell_type": "markdown",
   "id": "fb74b3f9",
   "metadata": {},
   "source": [
    "#### Taking Details from employee with the help of input function"
   ]
  },
  {
   "cell_type": "code",
   "execution_count": 1,
   "id": "52429c64",
   "metadata": {},
   "outputs": [
    {
     "name": "stdout",
     "output_type": "stream",
     "text": [
      "Enter Employee Number:101\n",
      "Enter Employee Name:Ravi Kumar\n",
      "Enter Employee Salary:34000\n",
      "Enter Employee Address734 dsd sfawr awaa wew\n",
      "Enter Marrid status[True|False]True\n",
      "Please confirm information\n",
      "Employee Number: 101\n",
      "Employee Name: Ravi Kumar\n",
      "Employee Salary: 34000.0\n",
      "Employee Address: 734 dsd sfawr awaa wew\n",
      "Employee Status: True\n"
     ]
    }
   ],
   "source": [
    "emp_no = int(input(\"Enter Employee Number:\"))\n",
    "emp_name = input(\"Enter Employee Name:\")\n",
    "emp_sal = float(input(\"Enter Employee Salary:\"))\n",
    "emp_add = input(\"Enter Employee Address\")\n",
    "emp_mstatus = bool(input(\"Enter Marrid status[True|False]\"))\n",
    "print(\"Please confirm information\")\n",
    "print(\"Employee Number:\", emp_no)\n",
    "print(\"Employee Name:\", emp_name)\n",
    "print(\"Employee Salary:\", emp_sal)\n",
    "print(\"Employee Address:\", emp_add)\n",
    "print(\"Employee Status:\", emp_mstatus)"
   ]
  },
  {
   "cell_type": "code",
   "execution_count": null,
   "id": "3c15609f",
   "metadata": {},
   "outputs": [],
   "source": []
  }
 ],
 "metadata": {
  "kernelspec": {
   "display_name": "Python 3",
   "language": "python",
   "name": "python3"
  },
  "language_info": {
   "codemirror_mode": {
    "name": "ipython",
    "version": 3
   },
   "file_extension": ".py",
   "mimetype": "text/x-python",
   "name": "python",
   "nbconvert_exporter": "python",
   "pygments_lexer": "ipython3",
   "version": "3.8.8"
  }
 },
 "nbformat": 4,
 "nbformat_minor": 5
}
