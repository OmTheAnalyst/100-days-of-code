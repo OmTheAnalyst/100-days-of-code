{
 "cells": [
  {
   "cell_type": "code",
   "execution_count": 6,
   "id": "f8f3a450",
   "metadata": {},
   "outputs": [
    {
     "name": "stdout",
     "output_type": "stream",
     "text": [
      "0\n",
      "1\n"
     ]
    }
   ],
   "source": [
    "import psycopg2\n",
    "\n",
    "hostname = 'localhost'\n",
    "database = 'SuperMart_DB'\n",
    "username = 'postgres'\n",
    "pwd = 'india'\n",
    "port_id = 5432\n",
    "\n",
    "conn = psycopg2.connect(host = hostname, dbname = database, user = username, password = pwd, port = port_id) #To conncet with database\n",
    "\n",
    "print(conn.closed) #To check if the conncetion is closed the output will in binary \n",
    "\n",
    "conn.close() #To close the conncetion\n",
    "print(conn.closed) #To check if the conncetion is closed the output will in binary "
   ]
  },
  {
   "cell_type": "code",
   "execution_count": 32,
   "id": "d8fee3be",
   "metadata": {},
   "outputs": [
    {
     "name": "stdout",
     "output_type": "stream",
     "text": [
      "CA-2016-152156 2016-11-08\n",
      "CA-2016-152156 2016-11-08\n",
      "CA-2016-138688 2016-06-12\n",
      "US-2015-108966 2015-10-11\n",
      "US-2015-108966 2015-10-11\n",
      "True\n",
      "1\n"
     ]
    }
   ],
   "source": [
    "import psycopg2 \n",
    "\n",
    "hostname = 'localhost'\n",
    "database = 'SuperMart_DB'\n",
    "username = 'postgres'\n",
    "pwd = 'india'\n",
    "port_id = 5432\n",
    "conn = None\n",
    "cur = None\n",
    "\n",
    "try : \n",
    "    conn = psycopg2.connect(host = hostname, dbname = database, user = username, password = pwd, port = port_id)\n",
    "    cur = conn.cursor()\n",
    "    \n",
    "    cur.execute('SELECT * FROM sales LIMIT 5')#To write sql queries\n",
    "    for record in cur.fetchall(): #To fetch all the records from the table\n",
    "        print(record[1],record[2])#To fetch specifice column we use index [1][2]\n",
    "    \n",
    "    conn.commit()#To commit current execution to the pgadmin4\n",
    "    \n",
    "except Exception as Error:\n",
    "    print(\"Error Occure with Exception!! Please read the code again.\")\n",
    "    \n",
    "finally:\n",
    "    if cur is not None:\n",
    "        cur.close()\n",
    "        \n",
    "    if conn is not None:\n",
    "        conn.close()\n",
    "print(cur.closed)\n",
    "print(conn.closed)"
   ]
  },
  {
   "cell_type": "code",
   "execution_count": null,
   "id": "b62f6d50",
   "metadata": {},
   "outputs": [],
   "source": []
  }
 ],
 "metadata": {
  "kernelspec": {
   "display_name": "Python 3",
   "language": "python",
   "name": "python3"
  },
  "language_info": {
   "codemirror_mode": {
    "name": "ipython",
    "version": 3
   },
   "file_extension": ".py",
   "mimetype": "text/x-python",
   "name": "python",
   "nbconvert_exporter": "python",
   "pygments_lexer": "ipython3",
   "version": "3.8.8"
  }
 },
 "nbformat": 4,
 "nbformat_minor": 5
}
