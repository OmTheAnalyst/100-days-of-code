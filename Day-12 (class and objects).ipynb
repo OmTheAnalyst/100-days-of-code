{
 "cells": [
  {
   "cell_type": "code",
   "execution_count": 9,
   "id": "ca8af129",
   "metadata": {},
   "outputs": [
    {
     "name": "stdout",
     "output_type": "stream",
     "text": [
      "101 Sunny\n",
      "Hello, My name is: Sunny\n",
      "My Rollno is: 101\n",
      "Hello, My name is: Monny\n",
      "My Rollno is: 104\n"
     ]
    }
   ],
   "source": [
    "class student:\n",
    "    \n",
    "    \n",
    "    '''This is a class made for testing purpose'''\n",
    "    \n",
    "     \n",
    "    def __init__(self, rollno, name):    #Funtion\n",
    "        \n",
    "        self.rollno = rollno\n",
    "        self.name = name\n",
    "              \n",
    "        \n",
    "    def display(self):         #function\n",
    "        \n",
    "        print(\"Hello, My name is:\",self.name)\n",
    "        print(\"My Rollno is:\",self.rollno)\n",
    "   \n",
    "\n",
    "s1 = student(101, 'Sunny')   #Created Object, s1 is reference variable\n",
    "s2 = student(102,'Bunny')    #Object s2 is reference variable\n",
    "s3 = student(103,'Hunny')    #Object s3 is reference variable\n",
    "s4 = student(104,'Monny')    #Object s4 is reference variable\n",
    "\n",
    "\n",
    "print(s1.rollno, s1.name)  \n",
    "s1.display()           #Function call/object call\n",
    "s4.display()          #function call/object call"
   ]
  },
  {
   "cell_type": "code",
   "execution_count": 19,
   "id": "7ccbb8eb",
   "metadata": {},
   "outputs": [
    {
     "name": "stdout",
     "output_type": "stream",
     "text": [
      "Employee name is: David\n",
      "Employee ID is: 101\n",
      "Employee salary is: 44000\n"
     ]
    }
   ],
   "source": [
    "# Creating a employee class\n",
    "\n",
    "class employee:\n",
    "    \n",
    "    def __init__(self, enam, eid, esal):\n",
    "        \n",
    "        self.enam = enam\n",
    "        self.eid = eid\n",
    "        self.esal = esal\n",
    "        \n",
    "    def info(self):\n",
    "        \n",
    "        print(\"Employee name is:\",self.enam)\n",
    "        print(\"Employee ID is:\",self.eid)\n",
    "        print(\"Employee salary is:\",self.esal)\n",
    "        \n",
    "e1 = employee('David', 101, 44000)\n",
    "e1.info()"
   ]
  },
  {
   "cell_type": "code",
   "execution_count": null,
   "id": "762acb47",
   "metadata": {},
   "outputs": [],
   "source": []
  }
 ],
 "metadata": {
  "kernelspec": {
   "display_name": "Python 3",
   "language": "python",
   "name": "python3"
  },
  "language_info": {
   "codemirror_mode": {
    "name": "ipython",
    "version": 3
   },
   "file_extension": ".py",
   "mimetype": "text/x-python",
   "name": "python",
   "nbconvert_exporter": "python",
   "pygments_lexer": "ipython3",
   "version": "3.8.8"
  }
 },
 "nbformat": 4,
 "nbformat_minor": 5
}
