{
 "cells": [
  {
   "cell_type": "code",
   "execution_count": 1,
   "id": "f37225b0",
   "metadata": {},
   "outputs": [
    {
     "name": "stdout",
     "output_type": "stream",
     "text": [
      "Statement 1\n",
      "5.0\n",
      "Statement-3\n"
     ]
    }
   ],
   "source": [
    "print(\"Statement 1\")\n",
    "try:\n",
    "    print(10/0)\n",
    "    \n",
    "except ZeroDivisionError:\n",
    "    print(10/2)\n",
    "    \n",
    "print(\"Statement-3\")"
   ]
  },
  {
   "cell_type": "code",
   "execution_count": 5,
   "id": "afd204cc",
   "metadata": {},
   "outputs": [
    {
     "name": "stdout",
     "output_type": "stream",
     "text": [
      "Enter First Number: 1\n",
      "Enter Second Number: 23a\n",
      "Please provife int value only\n"
     ]
    }
   ],
   "source": [
    "try:\n",
    "    x = int(input(\"Enter First Number: \"))\n",
    "    y = int(input(\"Enter Second Number: \"))\n",
    "    print(x/y)\n",
    "    \n",
    "except ZeroDivisionError:\n",
    "    print(\"Can't Divide with Zero\")\n",
    "    \n",
    "except ValueError:\n",
    "    print(\"Please provife int value only\")"
   ]
  },
  {
   "cell_type": "code",
   "execution_count": null,
   "id": "3a574494",
   "metadata": {},
   "outputs": [],
   "source": []
  }
 ],
 "metadata": {
  "kernelspec": {
   "display_name": "Python 3",
   "language": "python",
   "name": "python3"
  },
  "language_info": {
   "codemirror_mode": {
    "name": "ipython",
    "version": 3
   },
   "file_extension": ".py",
   "mimetype": "text/x-python",
   "name": "python",
   "nbconvert_exporter": "python",
   "pygments_lexer": "ipython3",
   "version": "3.8.8"
  }
 },
 "nbformat": 4,
 "nbformat_minor": 5
}
