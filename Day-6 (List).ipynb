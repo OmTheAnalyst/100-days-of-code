{
 "cells": [
  {
   "cell_type": "markdown",
   "id": "cb55e69b",
   "metadata": {},
   "source": [
    "##### Creating a List\n"
   ]
  },
  {
   "cell_type": "code",
   "execution_count": 1,
   "id": "0babd2c9",
   "metadata": {},
   "outputs": [],
   "source": [
    "lis = [12,32,547,67,45]"
   ]
  },
  {
   "cell_type": "code",
   "execution_count": 20,
   "id": "f75aec4c",
   "metadata": {},
   "outputs": [
    {
     "data": {
      "text/plain": [
       "45"
      ]
     },
     "execution_count": 20,
     "metadata": {},
     "output_type": "execute_result"
    }
   ],
   "source": [
    "lis[0]\n",
    "lis[-1]\n",
    "lis[-5]\n",
    "lis[4]\n"
   ]
  },
  {
   "cell_type": "code",
   "execution_count": null,
   "id": "c51cdcf2",
   "metadata": {},
   "outputs": [],
   "source": [
    "###list is Mutable which means values can be changed"
   ]
  },
  {
   "cell_type": "code",
   "execution_count": 19,
   "id": "20f05edd",
   "metadata": {},
   "outputs": [
    {
     "data": {
      "text/plain": [
       "[45, 67, 547, 32, 12]"
      ]
     },
     "execution_count": 19,
     "metadata": {},
     "output_type": "execute_result"
    }
   ],
   "source": [
    "#lis[Start : stop : Step]\n",
    "lis[0:4:1]\n",
    "lis[1:4:2]\n",
    "lis[-1:-6:-1]"
   ]
  },
  {
   "cell_type": "code",
   "execution_count": 21,
   "id": "6d242ec1",
   "metadata": {},
   "outputs": [],
   "source": [
    "num = [12,34,21,45,76,87]"
   ]
  },
  {
   "cell_type": "code",
   "execution_count": 23,
   "id": "eb000023",
   "metadata": {},
   "outputs": [],
   "source": [
    "name = ['werwge','wfwe','QARWTG','TRJDXR','FDXSDGV']"
   ]
  },
  {
   "cell_type": "code",
   "execution_count": 25,
   "id": "dc857994",
   "metadata": {},
   "outputs": [],
   "source": [
    "total = [num, name]"
   ]
  },
  {
   "cell_type": "code",
   "execution_count": 26,
   "id": "500db6a3",
   "metadata": {},
   "outputs": [
    {
     "data": {
      "text/plain": [
       "[[12, 34, 21, 45, 76, 87], ['werwge', 'wfwe', 'QARWTG', 'TRJDXR', 'FDXSDGV']]"
      ]
     },
     "execution_count": 26,
     "metadata": {},
     "output_type": "execute_result"
    }
   ],
   "source": [
    "total"
   ]
  },
  {
   "cell_type": "code",
   "execution_count": 29,
   "id": "9f9000fa",
   "metadata": {},
   "outputs": [],
   "source": [
    "#Using aappend function\n",
    "num.append(434)"
   ]
  },
  {
   "cell_type": "code",
   "execution_count": 28,
   "id": "555f528f",
   "metadata": {},
   "outputs": [
    {
     "data": {
      "text/plain": [
       "[12, 34, 21, 45, 76, 87, 434]"
      ]
     },
     "execution_count": 28,
     "metadata": {},
     "output_type": "execute_result"
    }
   ],
   "source": [
    "num"
   ]
  },
  {
   "cell_type": "code",
   "execution_count": null,
   "id": "c13ca5c4",
   "metadata": {},
   "outputs": [],
   "source": []
  }
 ],
 "metadata": {
  "kernelspec": {
   "display_name": "Python 3",
   "language": "python",
   "name": "python3"
  },
  "language_info": {
   "codemirror_mode": {
    "name": "ipython",
    "version": 3
   },
   "file_extension": ".py",
   "mimetype": "text/x-python",
   "name": "python",
   "nbconvert_exporter": "python",
   "pygments_lexer": "ipython3",
   "version": "3.8.8"
  }
 },
 "nbformat": 4,
 "nbformat_minor": 5
}
