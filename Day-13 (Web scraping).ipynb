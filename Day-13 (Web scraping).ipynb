{
 "cells": [
  {
   "cell_type": "code",
   "execution_count": 13,
   "id": "5644051d",
   "metadata": {},
   "outputs": [],
   "source": [
    "import requests\n",
    "\n",
    "import bs4\n",
    "from bs4 import BeautifulSoup\n",
    "\n",
    "import smtplib         #sending email\n",
    "\n",
    "import email.mime          #emailbody\n",
    "from email.mime.multipart import MIMEMultipart\n",
    "from email.mime.text import MIMEText\n",
    "\n",
    "import datetime\n",
    "now = datetime.datetime.now()"
   ]
  },
  {
   "cell_type": "code",
   "execution_count": null,
   "id": "3a9c5d46",
   "metadata": {},
   "outputs": [],
   "source": [
    "# Email content\n",
    "\n",
    "content = ''"
   ]
  },
  {
   "cell_type": "code",
   "execution_count": null,
   "id": "08b740a2",
   "metadata": {},
   "outputs": [],
   "source": [
    "#Extracting news stories\n",
    "\n",
    "def "
   ]
  }
 ],
 "metadata": {
  "kernelspec": {
   "display_name": "Python 3",
   "language": "python",
   "name": "python3"
  },
  "language_info": {
   "codemirror_mode": {
    "name": "ipython",
    "version": 3
   },
   "file_extension": ".py",
   "mimetype": "text/x-python",
   "name": "python",
   "nbconvert_exporter": "python",
   "pygments_lexer": "ipython3",
   "version": "3.8.8"
  }
 },
 "nbformat": 4,
 "nbformat_minor": 5
}
