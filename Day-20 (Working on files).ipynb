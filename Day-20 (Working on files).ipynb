{
 "cells": [
  {
   "cell_type": "code",
   "execution_count": 1,
   "id": "04e3e721",
   "metadata": {},
   "outputs": [],
   "source": [
    "import pandas as pd\n",
    "import os\n",
    "import numpy as np"
   ]
  },
  {
   "cell_type": "code",
   "execution_count": 13,
   "id": "3706b2cc",
   "metadata": {},
   "outputs": [
    {
     "name": "stdout",
     "output_type": "stream",
     "text": [
      "<_io.TextIOWrapper name='abc.txt' mode='r' encoding='cp1252'>\n",
      "File is readalbe True\n",
      "File closed True\n"
     ]
    }
   ],
   "source": [
    "f=open(\"abc.txt\",'r')\n",
    "print(f)\n",
    "print(\"File is readalbe\",f.readable())\n",
    "f.close()\n",
    "print(\"File closed\",f.closed)"
   ]
  },
  {
   "cell_type": "code",
   "execution_count": 19,
   "id": "10b459c6",
   "metadata": {},
   "outputs": [
    {
     "name": "stdout",
     "output_type": "stream",
     "text": [
      "uyfv kner glw  welgt \\\n",
      "e4wg\n",
      "w\n",
      "weg\n",
      "eg\n",
      "g\n",
      "ew\n",
      " \n",
      " eh\n",
      " serh\n",
      " ej5strj\n",
      " 5\n",
      " eahr\n",
      " er 5hu\n",
      " rt6jt6j\n"
     ]
    }
   ],
   "source": [
    "a = open(\"abc.txt\",'r')\n",
    "l1 = a.read() \n",
    "print(l1)\n",
    "a.close()\n"
   ]
  },
  {
   "cell_type": "code",
   "execution_count": 30,
   "id": "92e2ff67",
   "metadata": {},
   "outputs": [
    {
     "name": "stdout",
     "output_type": "stream",
     "text": [
      "uyfv kner glw  welgt \\\n",
      "e4wg\n",
      "w\n",
      "weg\n",
      "eg\n",
      "g\n",
      "ew\n",
      " \n",
      " eh\n",
      " serh\n",
      " ej5strj\n",
      " 5\n",
      " eahr\n",
      " er 5hu\n",
      " rt6jt6j\n",
      "file is closed True\n"
     ]
    }
   ],
   "source": [
    "#reading file by using loop\n",
    "\n",
    "f = open(\"abc.txt\")\n",
    "for data in f:  ## Using for loop for reading data\n",
    "    data = data.strip('\\n')\n",
    "    print(data)\n",
    "    \n",
    "f.close()   #closing file\n",
    "print(\"file is closed\",f.closed)\n",
    "    "
   ]
  },
  {
   "cell_type": "code",
   "execution_count": 2,
   "id": "0a4636b8",
   "metadata": {},
   "outputs": [
    {
     "data": {
      "text/plain": [
       "'H'"
      ]
     },
     "execution_count": 2,
     "metadata": {},
     "output_type": "execute_result"
    }
   ],
   "source": [
    "x = \"Hello\"\n",
    "x[0]"
   ]
  },
  {
   "cell_type": "code",
   "execution_count": null,
   "id": "d291108c",
   "metadata": {},
   "outputs": [],
   "source": []
  }
 ],
 "metadata": {
  "kernelspec": {
   "display_name": "Python 3",
   "language": "python",
   "name": "python3"
  },
  "language_info": {
   "codemirror_mode": {
    "name": "ipython",
    "version": 3
   },
   "file_extension": ".py",
   "mimetype": "text/x-python",
   "name": "python",
   "nbconvert_exporter": "python",
   "pygments_lexer": "ipython3",
   "version": "3.8.8"
  }
 },
 "nbformat": 4,
 "nbformat_minor": 5
}
