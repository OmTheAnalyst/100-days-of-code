{
 "cells": [
  {
   "cell_type": "code",
   "execution_count": 3,
   "id": "daf657db",
   "metadata": {},
   "outputs": [
    {
     "name": "stdout",
     "output_type": "stream",
     "text": [
      "<class '__main__.stud'>\n"
     ]
    }
   ],
   "source": [
    "#In python everything is an object.\n",
    "\n",
    "class stud:\n",
    "    \"This is student class with required data\"\n",
    "    \n",
    "print(stud)"
   ]
  },
  {
   "cell_type": "code",
   "execution_count": 13,
   "id": "a4f9c0a2",
   "metadata": {},
   "outputs": [],
   "source": [
    "class stud1:\n",
    "\n",
    "    \"Dev by om for python Demo\"\n",
    "    \n",
    "    \n",
    "    def __init__(self):\n",
    "        self.name = 'Durga'\n",
    "        self.age = 40\n",
    "        self.marks = 80\n",
    "        \n",
    "    def talk(self):\n",
    "        print(\"Hello\",self.name)\n",
    "        print(\"My age is\",self.age)\n",
    "        print(\"My marks are\", self.marks)\n",
    "        \n"
   ]
  },
  {
   "cell_type": "code",
   "execution_count": 17,
   "id": "a4caf33e",
   "metadata": {},
   "outputs": [],
   "source": [
    "s = stud1()"
   ]
  },
  {
   "cell_type": "code",
   "execution_count": null,
   "id": "81525db6",
   "metadata": {},
   "outputs": [],
   "source": []
  },
  {
   "cell_type": "code",
   "execution_count": 20,
   "id": "4fdab23d",
   "metadata": {},
   "outputs": [
    {
     "name": "stdout",
     "output_type": "stream",
     "text": [
      "Hell My name is Om\n",
      "My roll no is 101\n",
      "My marks is  21\n"
     ]
    }
   ],
   "source": [
    "class student:\n",
    "    \n",
    "    def __init__(self, name,roll,marks):\n",
    "        self.name = name\n",
    "        self.roll = roll\n",
    "        self.marks = marks\n",
    "        \n",
    "    def talk(self):\n",
    "        print(\"Hell My name is\", self.name)\n",
    "        print(\"My roll no is\", self.roll)\n",
    "        print(\"My marks is \",self.marks)\n",
    "        \n",
    "s1 = student(\"Om\",101, 21)\n",
    "s1.talk()"
   ]
  },
  {
   "cell_type": "code",
   "execution_count": 26,
   "id": "d650beef",
   "metadata": {},
   "outputs": [
    {
     "name": "stdout",
     "output_type": "stream",
     "text": [
      "Student name:om\n",
      "RollNo:101\n",
      "Marks:74\n",
      "Student name:DFs\n",
      "RollNo:231\n",
      "Marks:32\n"
     ]
    }
   ],
   "source": [
    "class test:\n",
    "    \n",
    "    def __init__(self,x,y,z):\n",
    "        self.name = x\n",
    "        self.roll = y\n",
    "        self.marks = z\n",
    "        \n",
    "    def display(self):\n",
    "        print(\"Student name:{}\\nRollNo:{}\\nMarks:{}\".format(self.name,self.roll,self.marks))\n",
    "        \n",
    "s1 = test(\"om\",101,74)\n",
    "s1.display()\n",
    "\n",
    "s2 = test('DFs',231,32)\n",
    "s2.display()"
   ]
  },
  {
   "cell_type": "code",
   "execution_count": null,
   "id": "32c83227",
   "metadata": {},
   "outputs": [],
   "source": []
  }
 ],
 "metadata": {
  "kernelspec": {
   "display_name": "Python 3 (ipykernel)",
   "language": "python",
   "name": "python3"
  },
  "language_info": {
   "codemirror_mode": {
    "name": "ipython",
    "version": 3
   },
   "file_extension": ".py",
   "mimetype": "text/x-python",
   "name": "python",
   "nbconvert_exporter": "python",
   "pygments_lexer": "ipython3",
   "version": "3.10.9"
  }
 },
 "nbformat": 4,
 "nbformat_minor": 5
}
