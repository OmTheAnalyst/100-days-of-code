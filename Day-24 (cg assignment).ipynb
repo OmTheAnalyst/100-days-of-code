{
 "cells": [
  {
   "cell_type": "code",
   "execution_count": 1,
   "id": "e4cb29f1",
   "metadata": {},
   "outputs": [
    {
     "ename": "SyntaxError",
     "evalue": "invalid syntax (<ipython-input-1-3f79db5ad08a>, line 5)",
     "output_type": "error",
     "traceback": [
      "\u001b[1;36m  File \u001b[1;32m\"<ipython-input-1-3f79db5ad08a>\"\u001b[1;36m, line \u001b[1;32m5\u001b[0m\n\u001b[1;33m    +calcSal():\u001b[0m\n\u001b[1;37m               ^\u001b[0m\n\u001b[1;31mSyntaxError\u001b[0m\u001b[1;31m:\u001b[0m invalid syntax\n"
     ]
    }
   ],
   "source": [
    "#Implement a class Employee (-name, -id, -basicSal (>=10000) ,\n",
    "constructor, +setname, +setid, \n",
    "+setsalary, +getname, +getid, +getsalary,\n",
    "+display,\n",
    "+calcSal(): 1.1 times basicSal, destructor).\n",
    "    "
   ]
  },
  {
   "cell_type": "code",
   "execution_count": 16,
   "id": "fb89eebc",
   "metadata": {},
   "outputs": [
    {
     "ename": "NameError",
     "evalue": "name 'employee' is not defined",
     "output_type": "error",
     "traceback": [
      "\u001b[1;31m---------------------------------------------------------------------------\u001b[0m",
      "\u001b[1;31mNameError\u001b[0m                                 Traceback (most recent call last)",
      "\u001b[1;32m<ipython-input-16-2318ef3ed0ba>\u001b[0m in \u001b[0;36m<module>\u001b[1;34m\u001b[0m\n\u001b[0;32m     19\u001b[0m \u001b[1;33m\u001b[0m\u001b[0m\n\u001b[0;32m     20\u001b[0m \u001b[1;33m\u001b[0m\u001b[0m\n\u001b[1;32m---> 21\u001b[1;33m \u001b[0ma\u001b[0m \u001b[1;33m=\u001b[0m \u001b[0memployee\u001b[0m\u001b[1;33m(\u001b[0m\u001b[1;34m'Dav'\u001b[0m\u001b[1;33m,\u001b[0m \u001b[1;34m'01'\u001b[0m\u001b[1;33m,\u001b[0m \u001b[1;34m'500000'\u001b[0m\u001b[1;33m)\u001b[0m\u001b[1;33m\u001b[0m\u001b[1;33m\u001b[0m\u001b[0m\n\u001b[0m\u001b[0;32m     22\u001b[0m \u001b[0ma\u001b[0m\u001b[1;33m.\u001b[0m\u001b[0mdisplay\u001b[0m\u001b[1;33m(\u001b[0m\u001b[1;33m)\u001b[0m\u001b[1;33m\u001b[0m\u001b[1;33m\u001b[0m\u001b[0m\n\u001b[0;32m     23\u001b[0m \u001b[1;33m\u001b[0m\u001b[0m\n",
      "\u001b[1;31mNameError\u001b[0m: name 'employee' is not defined"
     ]
    }
   ],
   "source": [
    "class Employee:\n",
    "    \n",
    "    def __init__(self, name, id, basicSal=10000):\n",
    "        pass\n",
    "        \n",
    "    def setname(self):\n",
    "        self.name = name\n",
    "        \n",
    "    def setid(self):\n",
    "        self.id = id\n",
    "        \n",
    "    def getsalary(self):\n",
    "        self.basicSal = basicSal\n",
    "        \n",
    "    def display(self):\n",
    "        print(\"Name:\", self.name)\n",
    "        print(\"Id:\", self.id)\n",
    "        print(\"Basic Salary:\",self.basicSal)\n",
    "        \n",
    "        \n",
    "a = employee('Dav', '01', '500000')\n",
    "a.display()\n",
    "        \n",
    "        \n",
    "        "
   ]
  },
  {
   "cell_type": "code",
   "execution_count": 5,
   "id": "385a0a78",
   "metadata": {},
   "outputs": [
    {
     "name": "stdout",
     "output_type": "stream",
     "text": [
      "enter your namefs\n",
      "enter your id131\n",
      "enter your salary1231\n",
      "you have entered low salary\n",
      "please enter salary >= 100004364363\n",
      "The name of employee is: fs\n",
      "The ID of employee is: 131\n",
      "The original salary is: 4364363.0\n",
      "The calculated salary is: 4800799.300000001\n"
     ]
    }
   ],
   "source": [
    "class Employee:\n",
    "    'common base class for all the employees'\n",
    "    \n",
    "# Constructor of Employee class\n",
    "    def __init__(self, name, ID, salary):\n",
    "        self.name = name\n",
    "        self.ID = ID\n",
    "        self.salary = salary\n",
    "        \n",
    "# getters\n",
    "    def getname(self):\n",
    "        return self.name\n",
    "\n",
    "\n",
    "\n",
    "    def getID(self):\n",
    "        return self.ID\n",
    "\n",
    "\n",
    "\n",
    "    def getsalary(self):\n",
    "        return self.salary\n",
    "\n",
    "\n",
    "\n",
    "#setters\n",
    "    def setname(self, emp_name):\n",
    "        self.name = emp_name\n",
    "\n",
    "\n",
    "\n",
    "    def setID(self, emp_ID):\n",
    "        self.ID = emp_ID\n",
    "\n",
    "\n",
    "\n",
    "    def setsalary(self, emp_salary):\n",
    "        if salary < 10000:\n",
    "            print('you have entered low salary')\n",
    "            self.salary = float(input('please enter salary >= 10000'))\n",
    "            return\n",
    "        self.salary = emp_salary\n",
    "\n",
    "\n",
    "\n",
    " \n",
    "\n",
    "\n",
    "\n",
    "    def calcSal(self):\n",
    "        calsalary = self.salary * 1.1\n",
    "        return calsalary\n",
    "\n",
    "\n",
    "\n",
    "    def display(self):\n",
    "        print('The name of employee is:', emp.getname())\n",
    "        print('The ID of employee is:', emp.getID())\n",
    "        print('The original salary is:', emp.getsalary())\n",
    "        print('The calculated salary is:', emp.calcSal())\n",
    "        return\n",
    "\n",
    "\n",
    "\n",
    "# objects of employee class\n",
    "emp = Employee('savan', 123456, 10000)\n",
    "\n",
    "\n",
    "\n",
    "name = input('enter your name')\n",
    "emp.setname(name)\n",
    "ID = int(input('enter your id'))\n",
    "emp.setID(ID)\n",
    "salary = float(input('enter your salary'))\n",
    "emp.setsalary(salary)\n",
    "\n",
    "\n",
    "\n",
    "emp.display()"
   ]
  },
  {
   "cell_type": "code",
   "execution_count": null,
   "id": "7cdcb6dc",
   "metadata": {},
   "outputs": [],
   "source": []
  }
 ],
 "metadata": {
  "kernelspec": {
   "display_name": "Python 3",
   "language": "python",
   "name": "python3"
  },
  "language_info": {
   "codemirror_mode": {
    "name": "ipython",
    "version": 3
   },
   "file_extension": ".py",
   "mimetype": "text/x-python",
   "name": "python",
   "nbconvert_exporter": "python",
   "pygments_lexer": "ipython3",
   "version": "3.8.8"
  }
 },
 "nbformat": 4,
 "nbformat_minor": 5
}
