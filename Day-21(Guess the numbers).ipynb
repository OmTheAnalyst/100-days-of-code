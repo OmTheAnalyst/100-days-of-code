{
 "cells": [
  {
   "cell_type": "code",
   "execution_count": 1,
   "id": "6d898f15",
   "metadata": {},
   "outputs": [
    {
     "name": "stdout",
     "output_type": "stream",
     "text": [
      "Hi, What's your name?\n",
      "om\n",
      "Nice to meet you om Let's play a game\n",
      "I will think of a number from 1 to 20 and you have to guess it in less than 6 guesses\n",
      "Take a guess\n",
      "11\n",
      "Wrong, Your guess is lower than the number\n",
      "Take a guess\n",
      "12\n",
      "Wrong, Your guess is lower than the number\n",
      "Take a guess\n",
      "12\n",
      "Wrong, Your guess is lower than the number\n",
      "Take a guess\n",
      "12\n",
      "Wrong, Your guess is lower than the number\n",
      "Take a guess\n",
      "12\n",
      "Wrong, Your guess is lower than the number\n",
      "Take a guess\n",
      "12\n",
      "Wrong, Your guess is lower than the number\n",
      "Sorry. The number i was thinking of was 19\n",
      "You can try again\n"
     ]
    }
   ],
   "source": [
    "import random\n",
    "print(\"Hi, What's your name?\")\n",
    "\n",
    "name = input()\n",
    "\n",
    "print(\"Nice to meet you\", name, \"Let's play a game\")\n",
    "print(\"I will think of a number from 1 to 20 and you have to guess it in less than 6 guesses\")\n",
    "\n",
    "num = random.randint(1,20)\n",
    "guesses_no = 0\n",
    "\n",
    "while(guesses_no <6):\n",
    "    print(\"Take a guess\")\n",
    "    guess = input()\n",
    "    guess = int(guess)\n",
    "    guesses_no = guesses_no +1\n",
    "    if (guess<num):\n",
    "        print(\"Wrong, Your guess is lower than the number\")\n",
    "        \n",
    "    if (guess>num):\n",
    "        print(\"Wrong, Your guess is higher than number\")\n",
    "        \n",
    "    if(guess==num):\n",
    "        break;\n",
    "        \n",
    "if (guess==num):\n",
    "    print(\"Yaaay Good job\")\n",
    "    \n",
    "if (guess != num):\n",
    "    print(\"Sorry. The number i was thinking of was\", num)\n",
    "    print(\"You can try again\")"
   ]
  },
  {
   "cell_type": "code",
   "execution_count": null,
   "id": "fba17e37",
   "metadata": {},
   "outputs": [],
   "source": []
  }
 ],
 "metadata": {
  "kernelspec": {
   "display_name": "Python 3",
   "language": "python",
   "name": "python3"
  },
  "language_info": {
   "codemirror_mode": {
    "name": "ipython",
    "version": 3
   },
   "file_extension": ".py",
   "mimetype": "text/x-python",
   "name": "python",
   "nbconvert_exporter": "python",
   "pygments_lexer": "ipython3",
   "version": "3.8.8"
  }
 },
 "nbformat": 4,
 "nbformat_minor": 5
}
