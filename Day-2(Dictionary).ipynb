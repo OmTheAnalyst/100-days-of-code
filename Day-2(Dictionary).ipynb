{
 "cells": [
  {
   "cell_type": "code",
   "execution_count": 4,
   "id": "b8c7c259",
   "metadata": {},
   "outputs": [],
   "source": [
    "s1 = {\n",
    "    'John': {\n",
    "        'age': 20,\n",
    "        'grade': 'A',\n",
    "        'subjects': ['Math', 'Science']\n",
    "    },\n",
    "    'Alice': {\n",
    "        'age': 19,\n",
    "        'grade': 'B',\n",
    "        'subjects': ['English', 'History']\n",
    "    },\n",
    "    'Bob': {\n",
    "        'age': 21,\n",
    "        'grade': 'C',\n",
    "        'subjects': ['Geography', 'Art']\n",
    "    }\n",
    "}"
   ]
  },
  {
   "cell_type": "code",
   "execution_count": 7,
   "id": "3d8c28b3",
   "metadata": {},
   "outputs": [],
   "source": [
    "s2 = {\n",
    "    'John':{\n",
    "        'age':20,\n",
    "        'grade':'A',\n",
    "        'subject':['Math','Science']\n",
    "    },\n",
    "    \n",
    "    'Alice':{\n",
    "        'age':10,\n",
    "        'grade':'B',\n",
    "        'subject':['English','History']\n",
    "    },\n",
    "        'Bob':{\n",
    "            'age':21,\n",
    "            'grade':'C',\n",
    "            'subjects':['Geography','Arts']\n",
    "        }\n",
    "}"
   ]
  },
  {
   "cell_type": "code",
   "execution_count": 8,
   "id": "af5cc2a2",
   "metadata": {},
   "outputs": [
    {
     "data": {
      "text/plain": [
       "{'John': {'age': 20, 'grade': 'A', 'subject': ['Math', 'Science']},\n",
       " 'Alice': {'age': 10, 'grade': 'B', 'subject': ['English', 'History']},\n",
       " 'Bob': {'age': 21, 'grade': 'C', 'subjects': ['Geography', 'Arts']}}"
      ]
     },
     "execution_count": 8,
     "metadata": {},
     "output_type": "execute_result"
    }
   ],
   "source": [
    "s2\n"
   ]
  },
  {
   "cell_type": "code",
   "execution_count": 11,
   "id": "0d045468",
   "metadata": {},
   "outputs": [],
   "source": [
    "s1['sarah']={\n",
    "    'age':22,\n",
    "    'grade':'B',\n",
    "    'Subjects':['Physics','Chemistry']\n",
    "}"
   ]
  },
  {
   "cell_type": "code",
   "execution_count": 12,
   "id": "be34b717",
   "metadata": {},
   "outputs": [
    {
     "data": {
      "text/plain": [
       "{'John': {'age': 20, 'grade': 'A', 'subjects': ['Math', 'Science']},\n",
       " 'Alice': {'age': 19, 'grade': 'B', 'subjects': ['English', 'History']},\n",
       " 'Bob': {'age': 21, 'grade': 'C', 'subjects': ['Geography', 'Art']},\n",
       " 'sarah': {'age': 22, 'grade': 'B', 'Subjects': ['Physics', 'Chemistry']}}"
      ]
     },
     "execution_count": 12,
     "metadata": {},
     "output_type": "execute_result"
    }
   ],
   "source": [
    "s1"
   ]
  },
  {
   "cell_type": "code",
   "execution_count": null,
   "id": "812d852c",
   "metadata": {},
   "outputs": [],
   "source": []
  }
 ],
 "metadata": {
  "kernelspec": {
   "display_name": "Python 3 (ipykernel)",
   "language": "python",
   "name": "python3"
  },
  "language_info": {
   "codemirror_mode": {
    "name": "ipython",
    "version": 3
   },
   "file_extension": ".py",
   "mimetype": "text/x-python",
   "name": "python",
   "nbconvert_exporter": "python",
   "pygments_lexer": "ipython3",
   "version": "3.10.9"
  }
 },
 "nbformat": 4,
 "nbformat_minor": 5
}
