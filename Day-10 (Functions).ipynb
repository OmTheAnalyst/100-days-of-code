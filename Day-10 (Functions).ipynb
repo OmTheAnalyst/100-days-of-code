{
 "cells": [
  {
   "cell_type": "code",
   "execution_count": 5,
   "id": "a1bd206a",
   "metadata": {},
   "outputs": [
    {
     "name": "stdout",
     "output_type": "stream",
     "text": [
      "Hello Function\n"
     ]
    }
   ],
   "source": [
    "def fun():#A simple function without parameters\n",
    "    print(\"Hello Function\")\n",
    "fun() #Function call"
   ]
  },
  {
   "cell_type": "code",
   "execution_count": 9,
   "id": "c50d84ad",
   "metadata": {},
   "outputs": [
    {
     "name": "stdout",
     "output_type": "stream",
     "text": [
      "Even\n",
      "Odd\n",
      "Even\n",
      "Odd\n"
     ]
    }
   ],
   "source": [
    "#Even Odd using function\n",
    "\n",
    "def evenodd(x): #x is parameter\n",
    "    if x%2==0:\n",
    "        print('Even')\n",
    "    else:\n",
    "        print(\"Odd\")\n",
    "        \n",
    "evenodd(2)#Argument \n",
    "evenodd(3)\n",
    "evenodd(52)\n",
    "evenodd(47)"
   ]
  },
  {
   "cell_type": "code",
   "execution_count": 11,
   "id": "5f91e6f3",
   "metadata": {},
   "outputs": [
    {
     "name": "stdout",
     "output_type": "stream",
     "text": [
      "x: 10\n",
      "y: 90\n"
     ]
    }
   ],
   "source": [
    "# Function with default arguement:\n",
    "\n",
    "def pun(x,y=90): #Y is default arguement \n",
    "    print('x:',x)\n",
    "    print('y:',y)\n",
    "    \n",
    "pun(10)"
   ]
  },
  {
   "cell_type": "code",
   "execution_count": 14,
   "id": "29a2c019",
   "metadata": {},
   "outputs": [
    {
     "name": "stdout",
     "output_type": "stream",
     "text": [
      "Ravi Kumar\n",
      "Kumar Sharma\n"
     ]
    }
   ],
   "source": [
    "def f1(firstname, lastname): #parameters without argument\n",
    "    print(firstname, lastname)\n",
    "    \n",
    "f1(firstname = \"Ravi\", lastname =\"Kumar\")\n",
    "f1(lastname = \"Sharma\", firstname= \"Kumar\")"
   ]
  },
  {
   "cell_type": "code",
   "execution_count": 24,
   "id": "6395bfd9",
   "metadata": {},
   "outputs": [
    {
     "name": "stdout",
     "output_type": "stream",
     "text": [
      "Results\n",
      "20.0\n",
      "2.0\n",
      "3.5\n",
      "22.0\n"
     ]
    }
   ],
   "source": [
    "def avg(n1,n2,n3):#Paramenter\n",
    "    return (n1+n2+n3)/3.0\n",
    "\n",
    "print(\"Results\")\n",
    "result1 = avg(10,20,30)#Argument\n",
    "result2 = avg(1,2,3)\n",
    "result3 = avg(2.1,3.5,4.9)\n",
    "result4 = avg(n1=21,n3=23,n2=22)\n",
    "\n",
    "\n",
    "print(result1)\n",
    "print(result2)\n",
    "print(result3)\n",
    "print(result4)"
   ]
  },
  {
   "cell_type": "code",
   "execution_count": 30,
   "id": "b4c954e0",
   "metadata": {},
   "outputs": [
    {
     "data": {
      "text/plain": [
       "False"
      ]
     },
     "execution_count": 30,
     "metadata": {},
     "output_type": "execute_result"
    }
   ],
   "source": [
    "{1,2,3,4}=={1,4,3,2}\n",
    "{1,2,3,4}=={1,2,3,'4'}"
   ]
  },
  {
   "cell_type": "code",
   "execution_count": null,
   "id": "fde2f868",
   "metadata": {},
   "outputs": [],
   "source": []
  }
 ],
 "metadata": {
  "kernelspec": {
   "display_name": "Python 3",
   "language": "python",
   "name": "python3"
  },
  "language_info": {
   "codemirror_mode": {
    "name": "ipython",
    "version": 3
   },
   "file_extension": ".py",
   "mimetype": "text/x-python",
   "name": "python",
   "nbconvert_exporter": "python",
   "pygments_lexer": "ipython3",
   "version": "3.8.8"
  }
 },
 "nbformat": 4,
 "nbformat_minor": 5
}
