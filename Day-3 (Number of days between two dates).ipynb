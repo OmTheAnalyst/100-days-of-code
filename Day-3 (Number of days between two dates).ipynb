{
 "cells": [
  {
   "cell_type": "markdown",
   "id": "07ef2464",
   "metadata": {},
   "source": [
    "##### Write a Python program to calculate number of days between two dates.\n"
   ]
  },
  {
   "cell_type": "code",
   "execution_count": 10,
   "id": "4129d649",
   "metadata": {},
   "outputs": [
    {
     "name": "stdout",
     "output_type": "stream",
     "text": [
      "-585\n"
     ]
    }
   ],
   "source": [
    "from datetime import date\n",
    "f_date = date(2021, 2, 19)\n",
    "l_date = date(2022, 9, 27)\n",
    "t_date = f_date - l_date\n",
    "print(t_date.days)"
   ]
  },
  {
   "cell_type": "code",
   "execution_count": 9,
   "id": "76e695ff",
   "metadata": {},
   "outputs": [
    {
     "name": "stdout",
     "output_type": "stream",
     "text": [
      "-35\n"
     ]
    }
   ],
   "source": [
    "day1= date(2014, 3, 1)\n",
    "day2= date(2014, 4, 5)\n",
    "delta = day1 - day2\n",
    "print(delta.days)"
   ]
  },
  {
   "cell_type": "code",
   "execution_count": null,
   "id": "708a7060",
   "metadata": {},
   "outputs": [],
   "source": []
  }
 ],
 "metadata": {
  "kernelspec": {
   "display_name": "Python 3",
   "language": "python",
   "name": "python3"
  },
  "language_info": {
   "codemirror_mode": {
    "name": "ipython",
    "version": 3
   },
   "file_extension": ".py",
   "mimetype": "text/x-python",
   "name": "python",
   "nbconvert_exporter": "python",
   "pygments_lexer": "ipython3",
   "version": "3.8.8"
  }
 },
 "nbformat": 4,
 "nbformat_minor": 5
}
