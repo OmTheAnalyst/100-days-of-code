{
 "cells": [
  {
   "cell_type": "code",
   "execution_count": 1,
   "id": "bdfb8868",
   "metadata": {},
   "outputs": [
    {
     "data": {
      "text/plain": [
       "str"
      ]
     },
     "execution_count": 1,
     "metadata": {},
     "output_type": "execute_result"
    }
   ],
   "source": [
    "ch = \"a\"\n",
    "type(ch)"
   ]
  },
  {
   "cell_type": "code",
   "execution_count": 38,
   "id": "c46ba871",
   "metadata": {},
   "outputs": [
    {
     "data": {
      "text/plain": [
       "'alpsiD'"
      ]
     },
     "execution_count": 38,
     "metadata": {},
     "output_type": "execute_result"
    }
   ],
   "source": [
    "#To access character of string:\n",
    "#---Index\n",
    "#---slice operators\n",
    "\n",
    "#Ex:-\n",
    "\n",
    "s = 'Display'\n",
    "s[0] #Index\n",
    "s[0:2] #Slice\n",
    "s[0:3]\n",
    "s[0:8]\n",
    "s[-1] #-ve index\n",
    "s[-2::-1]"
   ]
  },
  {
   "cell_type": "code",
   "execution_count": 29,
   "id": "25ef71b9",
   "metadata": {},
   "outputs": [
    {
     "name": "stdout",
     "output_type": "stream",
     "text": [
      "Enter some string:string\n",
      "0 -6 s\n",
      "1 -5 t\n",
      "2 -4 r\n",
      "3 -3 i\n",
      "4 -2 n\n",
      "5 -1 g\n"
     ]
    }
   ],
   "source": [
    "s=input(\"Enter some string:\")\n",
    "i=0\n",
    "for x in s:\n",
    "    print(i,i-len(s),x)\n",
    "    i=i+1"
   ]
  },
  {
   "cell_type": "code",
   "execution_count": null,
   "id": "107ca1f3",
   "metadata": {},
   "outputs": [],
   "source": []
  }
 ],
 "metadata": {
  "kernelspec": {
   "display_name": "Python 3",
   "language": "python",
   "name": "python3"
  },
  "language_info": {
   "codemirror_mode": {
    "name": "ipython",
    "version": 3
   },
   "file_extension": ".py",
   "mimetype": "text/x-python",
   "name": "python",
   "nbconvert_exporter": "python",
   "pygments_lexer": "ipython3",
   "version": "3.8.8"
  }
 },
 "nbformat": 4,
 "nbformat_minor": 5
}
