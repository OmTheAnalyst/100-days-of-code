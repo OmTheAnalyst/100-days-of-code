{
 "cells": [
  {
   "cell_type": "code",
   "execution_count": 9,
   "id": "63e22701",
   "metadata": {},
   "outputs": [
    {
     "name": "stdout",
     "output_type": "stream",
     "text": [
      "Company Name: Aaz \n",
      " Company No:  9023443634\n"
     ]
    }
   ],
   "source": [
    "#creating a static variable inside a class\n",
    "#\n",
    "class emp:\n",
    "    \n",
    "    c_name = \"Aaz\"    #static variable\n",
    "    c_no = \"9023443634\"  #static variable\n",
    "    \n",
    "print(\"Company Name:\",emp.c_name,\"\\n\",\"Company No: \",emp.c_no)\n",
    "    "
   ]
  },
  {
   "cell_type": "code",
   "execution_count": 19,
   "id": "4b75331b",
   "metadata": {},
   "outputs": [
    {
     "name": "stdout",
     "output_type": "stream",
     "text": [
      "101\n",
      "David\n"
     ]
    }
   ],
   "source": [
    "#instance variable ---- \n",
    "# Variable which are declared inside the method or constructor using \"Self\" word are called instance variable\n",
    "\n",
    "class emp:\n",
    "    \n",
    "    def assign(self):\n",
    "        self.idno = 101\n",
    "        self.name = \"David\"\n",
    "        \n",
    "    def display(self):\n",
    "        print(self.idno)\n",
    "        print(self.name)\n",
    "        \n",
    "x = emp()\n",
    "x.assign()\n",
    "x.display()"
   ]
  },
  {
   "cell_type": "code",
   "execution_count": 47,
   "id": "76281583",
   "metadata": {},
   "outputs": [
    {
     "name": "stdout",
     "output_type": "stream",
     "text": [
      "sekjgn\n",
      "23423532\n",
      "id no: 101\n",
      "name: ragger\n",
      "sekjgn\n",
      "23423532\n",
      "id no: 102\n",
      "name: Huul\n"
     ]
    }
   ],
   "source": [
    "# required argument in instance variable ---Creating 2 objects from the same class\n",
    "\n",
    "class emp:\n",
    "    \n",
    "    comp_name = \"sekjgn\" #------------Static variable\n",
    "    \n",
    "    def assign(self, id, name):\n",
    "        self.id = id\n",
    "        self.name = name\n",
    "        \n",
    "    def display(self):\n",
    "        print(\"id no:\", self.id)\n",
    "        print(\"name:\", self.name)\n",
    "        \n",
    "    comp_no = \"23423532\" #---------------static variable\n",
    "        \n",
    "e1 = emp()   #Object 1\n",
    "print(emp.comp_name) #calling static variable\n",
    "print(emp.comp_no)   #calling static variable\n",
    "e1.assign(101,\"ragger\")\n",
    "e1.display()\n",
    "\n",
    "\n",
    "e2 = emp()   #object 2\n",
    "print(emp.comp_name) #calling static variable\n",
    "print(emp.comp_no)   #calling static variable\n",
    "e2.assign(102,\"Huul\")\n",
    "e2.display()"
   ]
  },
  {
   "cell_type": "markdown",
   "id": "85e04283",
   "metadata": {},
   "source": [
    "#### THere are 3 types of method\n",
    "#####   static\n",
    "#####  Instance\n",
    "###### Class "
   ]
  },
  {
   "cell_type": "code",
   "execution_count": 41,
   "id": "f29873a0",
   "metadata": {},
   "outputs": [
    {
     "name": "stdout",
     "output_type": "stream",
     "text": [
      "Bam\n",
      "2314124\n"
     ]
    }
   ],
   "source": [
    "#Static Method are method to perform operations on static variables.\n",
    "\n",
    "class emp:\n",
    "    comp_name = \"Bam\"  #static Variable\n",
    "    comp_no = \"2314124\" #static variable\n",
    "    \n",
    "    @staticmethod\n",
    "    \n",
    "    def display(): #static method\n",
    "        print(emp.comp_name)\n",
    "        print(emp.comp_no)\n",
    "        \n",
    "emp.display()"
   ]
  },
  {
   "cell_type": "code",
   "execution_count": 51,
   "id": "a9d4fcf7",
   "metadata": {},
   "outputs": [
    {
     "name": "stdout",
     "output_type": "stream",
     "text": [
      "Without Argument and without return type\n",
      "With argument and without return\n",
      "130\n",
      "Without argument and with return type\n",
      "Good morning!!\n",
      "with argument and with return\n",
      "10\n"
     ]
    }
   ],
   "source": [
    "#static method in 4 ways\n",
    "\n",
    "class emp:\n",
    "    \n",
    "    @staticmethod\n",
    "    def display():\n",
    "        print(\"Without Argument and without return type\")\n",
    "        \n",
    "    @staticmethod\n",
    "    \n",
    "    def add(no1,no2 = 10 ):\n",
    "        print(\"With argument and without return\")\n",
    "        no3 = no1+no2\n",
    "        print(no3)\n",
    "        \n",
    "    @staticmethod\n",
    "    def wish():\n",
    "        print(\"Without argument and with return type\")\n",
    "        return \"Good morning!!\"\n",
    "    \n",
    "    @staticmethod\n",
    "    def sub(no1,no2):\n",
    "        print(\"with argument and with return\")\n",
    "        no3 = no2 - no1\n",
    "        return no3\n",
    "    \n",
    "emp.display()\n",
    "emp.add(100,30)\n",
    "x=emp.wish()\n",
    "print(x)\n",
    "y =emp.sub(5,15)\n",
    "print(y)"
   ]
  },
  {
   "cell_type": "code",
   "execution_count": null,
   "id": "fc2b18c5",
   "metadata": {},
   "outputs": [],
   "source": []
  }
 ],
 "metadata": {
  "kernelspec": {
   "display_name": "Python 3",
   "language": "python",
   "name": "python3"
  },
  "language_info": {
   "codemirror_mode": {
    "name": "ipython",
    "version": 3
   },
   "file_extension": ".py",
   "mimetype": "text/x-python",
   "name": "python",
   "nbconvert_exporter": "python",
   "pygments_lexer": "ipython3",
   "version": "3.8.8"
  }
 },
 "nbformat": 4,
 "nbformat_minor": 5
}
