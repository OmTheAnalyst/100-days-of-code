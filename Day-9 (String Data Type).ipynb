{
 "cells": [
  {
   "cell_type": "code",
   "execution_count": 1,
   "id": "5a083004",
   "metadata": {},
   "outputs": [],
   "source": [
    "##Most common used object in any language is String"
   ]
  },
  {
   "cell_type": "code",
   "execution_count": 2,
   "id": "c065b1c9",
   "metadata": {},
   "outputs": [],
   "source": [
    "#Any Sequence of character within either single quote or double quote is string"
   ]
  },
  {
   "cell_type": "code",
   "execution_count": 6,
   "id": "cc0baf0f",
   "metadata": {},
   "outputs": [
    {
     "name": "stdout",
     "output_type": "stream",
     "text": [
      "Name\n"
     ]
    },
    {
     "data": {
      "text/plain": [
       "str"
      ]
     },
     "execution_count": 6,
     "metadata": {},
     "output_type": "execute_result"
    }
   ],
   "source": [
    "s = \"Name\"\n",
    "print(s)\n",
    "type(s)"
   ]
  },
  {
   "cell_type": "code",
   "execution_count": 33,
   "id": "f245f94c",
   "metadata": {},
   "outputs": [
    {
     "name": "stdout",
     "output_type": "stream",
     "text": [
      "This is \n",
      "                multiline string\n",
      "<class 'str'>\n",
      "41\n"
     ]
    }
   ],
   "source": [
    "s1 = '''This is \n",
    "                multiline string'''\n",
    "print(s1)\n",
    "print(type(s1))\n",
    "print(len(s1))"
   ]
  },
  {
   "cell_type": "code",
   "execution_count": 9,
   "id": "6913aea1",
   "metadata": {},
   "outputs": [],
   "source": [
    "## To Access characters of a string\n",
    "## -By using index\n",
    "## -By using slice operator\n"
   ]
  },
  {
   "cell_type": "code",
   "execution_count": 16,
   "id": "ad620c1f",
   "metadata": {},
   "outputs": [
    {
     "name": "stdout",
     "output_type": "stream",
     "text": [
      "N\n",
      "a\n",
      "m\n",
      "e\n",
      "e\n",
      "m\n",
      "a\n",
      "N\n"
     ]
    },
    {
     "ename": "IndexError",
     "evalue": "string index out of range",
     "output_type": "error",
     "traceback": [
      "\u001b[1;31m---------------------------------------------------------------------------\u001b[0m",
      "\u001b[1;31mIndexError\u001b[0m                                Traceback (most recent call last)",
      "\u001b[1;32m<ipython-input-16-a167a06e4113>\u001b[0m in \u001b[0;36m<module>\u001b[1;34m\u001b[0m\n\u001b[0;32m      8\u001b[0m \u001b[0mprint\u001b[0m\u001b[1;33m(\u001b[0m\u001b[0ms\u001b[0m\u001b[1;33m[\u001b[0m\u001b[1;33m-\u001b[0m\u001b[1;36m3\u001b[0m\u001b[1;33m]\u001b[0m\u001b[1;33m)\u001b[0m\u001b[1;33m\u001b[0m\u001b[1;33m\u001b[0m\u001b[0m\n\u001b[0;32m      9\u001b[0m \u001b[0mprint\u001b[0m\u001b[1;33m(\u001b[0m\u001b[0ms\u001b[0m\u001b[1;33m[\u001b[0m\u001b[1;33m-\u001b[0m\u001b[1;36m4\u001b[0m\u001b[1;33m]\u001b[0m\u001b[1;33m)\u001b[0m\u001b[1;33m\u001b[0m\u001b[1;33m\u001b[0m\u001b[0m\n\u001b[1;32m---> 10\u001b[1;33m \u001b[0mprint\u001b[0m\u001b[1;33m(\u001b[0m\u001b[0ms\u001b[0m\u001b[1;33m[\u001b[0m\u001b[1;33m-\u001b[0m\u001b[1;36m5\u001b[0m\u001b[1;33m]\u001b[0m\u001b[1;33m)\u001b[0m\u001b[1;33m\u001b[0m\u001b[1;33m\u001b[0m\u001b[0m\n\u001b[0m",
      "\u001b[1;31mIndexError\u001b[0m: string index out of range"
     ]
    }
   ],
   "source": [
    "s =\"Name\"\n",
    "print(s[0])\n",
    "print(s[1])\n",
    "print(s[2])\n",
    "print(s[3])\n",
    "print(s[-1])\n",
    "print(s[-2])\n",
    "print(s[-3])\n",
    "print(s[-4])\n",
    "print(s[-5])"
   ]
  },
  {
   "cell_type": "code",
   "execution_count": 20,
   "id": "efd7efd0",
   "metadata": {},
   "outputs": [
    {
     "name": "stdout",
     "output_type": "stream",
     "text": [
      "Enter a string: Om\n",
      "The index value of +ve 0 and at -ve -2 is O\n",
      "The index value of +ve 1 and at -ve -1 is m\n"
     ]
    }
   ],
   "source": [
    "##Write a program to access some string form keyboard and display its characters by using index(Both +ve -ve)\n",
    "\n",
    "s = input(\"Enter a string: \")\n",
    "i = 0\n",
    "for x in s:\n",
    "    print(\"The index value of +ve {} and at -ve {} is {}\".format(i,i-len(s),x))\n",
    "    i=i+1"
   ]
  },
  {
   "cell_type": "code",
   "execution_count": 34,
   "id": "10ba6608",
   "metadata": {},
   "outputs": [
    {
     "name": "stdout",
     "output_type": "stream",
     "text": [
      "14\n"
     ]
    }
   ],
   "source": [
    "## Accessing string by using slice operator\n",
    "\n",
    "\n",
    "s = \"String is easy\"\n",
    "s[0:7:1]\n",
    "s[1:7]\n",
    "s[0:7:2]\n",
    "s[:7]\n",
    "s[7:]\n",
    "s[::]\n",
    "s[:]\n",
    "s[::-1]\n",
    "print(len(s))"
   ]
  },
  {
   "cell_type": "code",
   "execution_count": 38,
   "id": "0b50b96d",
   "metadata": {},
   "outputs": [
    {
     "name": "stdout",
     "output_type": "stream",
     "text": [
      "Forward \n",
      "Python is easy!!Backward\n",
      "!!ysae si nohtyP"
     ]
    }
   ],
   "source": [
    "#Write a program to access each character of string in forward and backward direction bt using while loop\n",
    "\n",
    "s = \"Python is easy!!\"\n",
    "print(\"Forward \")\n",
    "for i in s:\n",
    "    print(i,end ='')\n",
    "\n",
    "print(\"Backward\")\n",
    "for i in s[::-1]:\n",
    "    print(i,end='')\n",
    "    "
   ]
  },
  {
   "cell_type": "code",
   "execution_count": 42,
   "id": "7c4930d3",
   "metadata": {},
   "outputs": [
    {
     "name": "stdout",
     "output_type": "stream",
     "text": [
      "False\n",
      "True\n",
      "True\n",
      "False\n",
      "False\n"
     ]
    }
   ],
   "source": [
    "## Checking wheather the character is present in string or not\n",
    "\n",
    "s = \"String\"\n",
    "print('d' in s)\n",
    "print('S' in s)\n",
    "print('i' in s)\n",
    "print('j' in s)\n",
    "print('K'in s)"
   ]
  },
  {
   "cell_type": "code",
   "execution_count": 45,
   "id": "8aae8528",
   "metadata": {},
   "outputs": [
    {
     "name": "stdout",
     "output_type": "stream",
     "text": [
      "Enter Main String: python is easy\n",
      "Enter Sub String: not\n",
      "not is not present in main string\n"
     ]
    }
   ],
   "source": [
    "s = input(\"Enter Main String: \")\n",
    "sub =input(\"Enter Sub String: \")\n",
    "\n",
    "if sub in s:\n",
    "    print(sub,\"is present in main string\")\n",
    "else:\n",
    "    print(sub,\"is not present in main string\")\n"
   ]
  },
  {
   "cell_type": "code",
   "execution_count": 47,
   "id": "9a5aac15",
   "metadata": {},
   "outputs": [
    {
     "name": "stdout",
     "output_type": "stream",
     "text": [
      "python is difficult\n"
     ]
    }
   ],
   "source": [
    "#Replacing a string with another string\n",
    "##.replace(oldsrtring, newstring)\n",
    "\n",
    "s = 'python is easy'\n",
    "s1 = s.replace(\"easy\", \"difficult\")\n",
    "print(s1)"
   ]
  },
  {
   "cell_type": "code",
   "execution_count": 3,
   "id": "44f79704",
   "metadata": {},
   "outputs": [
    {
     "data": {
      "text/plain": [
       "'zin'"
      ]
     },
     "execution_count": 3,
     "metadata": {},
     "output_type": "execute_result"
    }
   ],
   "source": [
    "s='amazing'\n",
    "s[-4:-1]"
   ]
  },
  {
   "cell_type": "code",
   "execution_count": null,
   "id": "45b077e4",
   "metadata": {},
   "outputs": [],
   "source": []
  }
 ],
 "metadata": {
  "kernelspec": {
   "display_name": "Python 3",
   "language": "python",
   "name": "python3"
  },
  "language_info": {
   "codemirror_mode": {
    "name": "ipython",
    "version": 3
   },
   "file_extension": ".py",
   "mimetype": "text/x-python",
   "name": "python",
   "nbconvert_exporter": "python",
   "pygments_lexer": "ipython3",
   "version": "3.8.8"
  }
 },
 "nbformat": 4,
 "nbformat_minor": 5
}
