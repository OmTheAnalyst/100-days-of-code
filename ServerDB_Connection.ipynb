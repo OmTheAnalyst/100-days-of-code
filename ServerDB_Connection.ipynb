{
 "cells": [
  {
   "cell_type": "code",
   "execution_count": 4,
   "id": "f60f3a28",
   "metadata": {},
   "outputs": [],
   "source": [
    "#installing SQL Server ODBC connector \n",
    "\n",
    "import os"
   ]
  },
  {
   "cell_type": "code",
   "execution_count": 5,
   "id": "f5f7ff5b",
   "metadata": {},
   "outputs": [],
   "source": [
    "#Imported ODBC \n",
    "\n",
    "import pypyodbc as podb"
   ]
  },
  {
   "cell_type": "code",
   "execution_count": 6,
   "id": "e6161fd8",
   "metadata": {},
   "outputs": [
    {
     "ename": "Error",
     "evalue": "('IM002', '[IM002] [Microsoft][ODBC Driver Manager] Data source name not found and no default driver specified')",
     "output_type": "error",
     "traceback": [
      "\u001b[1;31m---------------------------------------------------------------------------\u001b[0m",
      "\u001b[1;31mError\u001b[0m                                     Traceback (most recent call last)",
      "Cell \u001b[1;32mIn[6], line 1\u001b[0m\n\u001b[1;32m----> 1\u001b[0m conn \u001b[38;5;241m=\u001b[39m \u001b[43mpodb\u001b[49m\u001b[38;5;241;43m.\u001b[39;49m\u001b[43mconnect\u001b[49m\u001b[43m(\u001b[49m\u001b[38;5;124;43m\"\u001b[39;49m\u001b[38;5;124;43mDrivers=\u001b[39;49m\u001b[38;5;124;43m{\u001b[39;49m\u001b[38;5;124;43mSQL Server}; Server= INLEN8520019937; Database= Globomantics;\u001b[39;49m\u001b[38;5;124;43m\"\u001b[39;49m\u001b[43m)\u001b[49m\n",
      "File \u001b[1;32m~\\AppData\\Local\\anaconda3\\lib\\site-packages\\pypyodbc.py:2454\u001b[0m, in \u001b[0;36mConnection.__init__\u001b[1;34m(self, connectString, autocommit, ansi, timeout, unicode_results, readonly, **kargs)\u001b[0m\n\u001b[0;32m   2450\u001b[0m \u001b[38;5;28;01mif\u001b[39;00m \u001b[38;5;28mself\u001b[39m\u001b[38;5;241m.\u001b[39mconnection_timeout \u001b[38;5;241m!=\u001b[39m \u001b[38;5;241m0\u001b[39m:\n\u001b[0;32m   2451\u001b[0m     \u001b[38;5;28mself\u001b[39m\u001b[38;5;241m.\u001b[39mset_connection_timeout(connection_timeout)\n\u001b[1;32m-> 2454\u001b[0m \u001b[38;5;28;43mself\u001b[39;49m\u001b[38;5;241;43m.\u001b[39;49m\u001b[43mconnect\u001b[49m\u001b[43m(\u001b[49m\u001b[43mconnectString\u001b[49m\u001b[43m,\u001b[49m\u001b[43m \u001b[49m\u001b[43mautocommit\u001b[49m\u001b[43m,\u001b[49m\u001b[43m \u001b[49m\u001b[43mansi\u001b[49m\u001b[43m,\u001b[49m\u001b[43m \u001b[49m\u001b[43mtimeout\u001b[49m\u001b[43m,\u001b[49m\u001b[43m \u001b[49m\u001b[43municode_results\u001b[49m\u001b[43m,\u001b[49m\u001b[43m \u001b[49m\u001b[43mreadonly\u001b[49m\u001b[43m)\u001b[49m\n",
      "File \u001b[1;32m~\\AppData\\Local\\anaconda3\\lib\\site-packages\\pypyodbc.py:2507\u001b[0m, in \u001b[0;36mConnection.connect\u001b[1;34m(self, connectString, autocommit, ansi, timeout, unicode_results, readonly)\u001b[0m\n\u001b[0;32m   2505\u001b[0m \u001b[38;5;28;01melse\u001b[39;00m:\n\u001b[0;32m   2506\u001b[0m     ret \u001b[38;5;241m=\u001b[39m odbc_func(\u001b[38;5;28mself\u001b[39m\u001b[38;5;241m.\u001b[39mdbc_h, \u001b[38;5;241m0\u001b[39m, c_connectString, \u001b[38;5;28mlen\u001b[39m(\u001b[38;5;28mself\u001b[39m\u001b[38;5;241m.\u001b[39mconnectString), \u001b[38;5;28;01mNone\u001b[39;00m, \u001b[38;5;241m0\u001b[39m, \u001b[38;5;28;01mNone\u001b[39;00m, SQL_DRIVER_NOPROMPT)\n\u001b[1;32m-> 2507\u001b[0m \u001b[43mcheck_success\u001b[49m\u001b[43m(\u001b[49m\u001b[38;5;28;43mself\u001b[39;49m\u001b[43m,\u001b[49m\u001b[43m \u001b[49m\u001b[43mret\u001b[49m\u001b[43m)\u001b[49m\n\u001b[0;32m   2510\u001b[0m \u001b[38;5;66;03m# Set the connection's attribute of \"autocommit\" \u001b[39;00m\n\u001b[0;32m   2511\u001b[0m \u001b[38;5;66;03m#\u001b[39;00m\n\u001b[0;32m   2512\u001b[0m \u001b[38;5;28mself\u001b[39m\u001b[38;5;241m.\u001b[39mautocommit \u001b[38;5;241m=\u001b[39m autocommit\n",
      "File \u001b[1;32m~\\AppData\\Local\\anaconda3\\lib\\site-packages\\pypyodbc.py:1009\u001b[0m, in \u001b[0;36mcheck_success\u001b[1;34m(ODBC_obj, ret)\u001b[0m\n\u001b[0;32m   1007\u001b[0m     ctrl_err(SQL_HANDLE_STMT, ODBC_obj\u001b[38;5;241m.\u001b[39mstmt_h, ret, ODBC_obj\u001b[38;5;241m.\u001b[39mansi)\n\u001b[0;32m   1008\u001b[0m \u001b[38;5;28;01melif\u001b[39;00m \u001b[38;5;28misinstance\u001b[39m(ODBC_obj, Connection):\n\u001b[1;32m-> 1009\u001b[0m     \u001b[43mctrl_err\u001b[49m\u001b[43m(\u001b[49m\u001b[43mSQL_HANDLE_DBC\u001b[49m\u001b[43m,\u001b[49m\u001b[43m \u001b[49m\u001b[43mODBC_obj\u001b[49m\u001b[38;5;241;43m.\u001b[39;49m\u001b[43mdbc_h\u001b[49m\u001b[43m,\u001b[49m\u001b[43m \u001b[49m\u001b[43mret\u001b[49m\u001b[43m,\u001b[49m\u001b[43m \u001b[49m\u001b[43mODBC_obj\u001b[49m\u001b[38;5;241;43m.\u001b[39;49m\u001b[43mansi\u001b[49m\u001b[43m)\u001b[49m\n\u001b[0;32m   1010\u001b[0m \u001b[38;5;28;01melse\u001b[39;00m:\n\u001b[0;32m   1011\u001b[0m     ctrl_err(SQL_HANDLE_ENV, ODBC_obj, ret, \u001b[38;5;28;01mFalse\u001b[39;00m)\n",
      "File \u001b[1;32m~\\AppData\\Local\\anaconda3\\lib\\site-packages\\pypyodbc.py:985\u001b[0m, in \u001b[0;36mctrl_err\u001b[1;34m(ht, h, val_ret, ansi)\u001b[0m\n\u001b[0;32m    983\u001b[0m     \u001b[38;5;28;01mraise\u001b[39;00m OperationalError(state,err_text)\n\u001b[0;32m    984\u001b[0m \u001b[38;5;28;01melif\u001b[39;00m state[:\u001b[38;5;241m2\u001b[39m] \u001b[38;5;129;01min\u001b[39;00m (raw_s(\u001b[38;5;124m'\u001b[39m\u001b[38;5;124mIM\u001b[39m\u001b[38;5;124m'\u001b[39m),raw_s(\u001b[38;5;124m'\u001b[39m\u001b[38;5;124mHY\u001b[39m\u001b[38;5;124m'\u001b[39m)):\n\u001b[1;32m--> 985\u001b[0m     \u001b[38;5;28;01mraise\u001b[39;00m Error(state,err_text)\n\u001b[0;32m    986\u001b[0m \u001b[38;5;28;01melse\u001b[39;00m:\n\u001b[0;32m    987\u001b[0m     \u001b[38;5;28;01mraise\u001b[39;00m DatabaseError(state,err_text)\n",
      "\u001b[1;31mError\u001b[0m: ('IM002', '[IM002] [Microsoft][ODBC Driver Manager] Data source name not found and no default driver specified')"
     ]
    }
   ],
   "source": [
    "conn = podb.connect(\"Drivers={SQL Server}; Server= INLEN8520019937; Database= Globomantics;\")"
   ]
  },
  {
   "cell_type": "code",
   "execution_count": null,
   "id": "3a5c5f92",
   "metadata": {},
   "outputs": [],
   "source": []
  }
 ],
 "metadata": {
  "kernelspec": {
   "display_name": "Python 3 (ipykernel)",
   "language": "python",
   "name": "python3"
  },
  "language_info": {
   "codemirror_mode": {
    "name": "ipython",
    "version": 3
   },
   "file_extension": ".py",
   "mimetype": "text/x-python",
   "name": "python",
   "nbconvert_exporter": "python",
   "pygments_lexer": "ipython3",
   "version": "3.10.9"
  }
 },
 "nbformat": 4,
 "nbformat_minor": 5
}
